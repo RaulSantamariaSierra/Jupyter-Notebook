{
 "cells": [
  {
   "cell_type": "code",
   "execution_count": 2,
   "id": "7245d10e-fc19-4ee3-83a4-6896a4977adf",
   "metadata": {},
   "outputs": [
    {
     "data": {
      "text/plain": [
       "import org.apache.spark.sql.SparkSession\n"
      ]
     },
     "execution_count": 2,
     "metadata": {},
     "output_type": "execute_result"
    }
   ],
   "source": [
    "import org.apache.spark.sql.SparkSession"
   ]
  },
  {
   "cell_type": "code",
   "execution_count": 3,
   "id": "7c5ba394-7561-42a4-9c28-f9df0aa760e2",
   "metadata": {},
   "outputs": [
    {
     "data": {
      "text/plain": [
       "import org.apache.spark.sql.functions.{col, count, desc, max, min}\n"
      ]
     },
     "execution_count": 3,
     "metadata": {},
     "output_type": "execute_result"
    }
   ],
   "source": [
    "import org.apache.spark.sql.functions.{col, count, desc, max, min}"
   ]
  },
  {
   "cell_type": "code",
   "execution_count": 8,
   "id": "e974ed8d-5bc9-444e-bdb6-ae2e82229559",
   "metadata": {},
   "outputs": [
    {
     "data": {
      "text/plain": [
       "sparkSession: org.apache.spark.sql.SparkSession = org.apache.spark.sql.SparkSession@74665816\n"
      ]
     },
     "execution_count": 8,
     "metadata": {},
     "output_type": "execute_result"
    }
   ],
   "source": [
    "val sparkSession = SparkSession\n",
    "    .builder()\n",
    "    .master(\"local[*]\")\n",
    "    .appName(\"curso\")\n",
    "    .config(\"spark.some.config.option\", \"some-value\")\n",
    "    .getOrCreate()"
   ]
  },
  {
   "cell_type": "code",
   "execution_count": 22,
   "id": "a7236aeb-1959-4ce5-8b06-5e0611a95c4e",
   "metadata": {},
   "outputs": [
    {
     "data": {
      "text/plain": [
       "leer: org.apache.spark.sql.DataFrame = [State: string, Color: string ... 1 more field]\n"
      ]
     },
     "execution_count": 22,
     "metadata": {},
     "output_type": "execute_result"
    }
   ],
   "source": [
    "val leer = sparkSession.read.option(\"header\", \"true\").csv(\"mnmdata.csv\")"
   ]
  },
  {
   "cell_type": "code",
   "execution_count": 23,
   "id": "32c72476-257c-41cb-9934-05b9bfe218fd",
   "metadata": {},
   "outputs": [
    {
     "name": "stdout",
     "output_type": "stream",
     "text": [
      "+-----+------+---+\n",
      "|State| Color|Max|\n",
      "+-----+------+---+\n",
      "|   AZ|  Blue| 99|\n",
      "|   AZ| Brown| 99|\n",
      "|   AZ| Green| 99|\n",
      "|   AZ|Orange| 99|\n",
      "|   AZ|   Red| 99|\n",
      "|   AZ|Yellow| 99|\n",
      "|   CA|  Blue| 99|\n",
      "|   CA| Brown| 99|\n",
      "|   CA| Green| 99|\n",
      "|   CA|Orange| 99|\n",
      "|   CA|   Red| 99|\n",
      "|   CA|Yellow| 99|\n",
      "|   CO|  Blue| 99|\n",
      "|   CO| Brown| 99|\n",
      "|   CO| Green| 99|\n",
      "|   CO|Orange| 99|\n",
      "|   CO|   Red| 99|\n",
      "|   CO|Yellow| 99|\n",
      "|   NM|  Blue| 99|\n",
      "|   NM| Brown| 99|\n",
      "+-----+------+---+\n",
      "only showing top 20 rows\n",
      "\n"
     ]
    },
    {
     "data": {
      "text/plain": [
       "maxMnM: Unit = ()\n"
      ]
     },
     "execution_count": 23,
     "metadata": {},
     "output_type": "execute_result"
    }
   ],
   "source": [
    "val maxMnM = leer\n",
    "    .select(\"State\", \"Color\", \"Count\")\n",
    "    .groupBy(\"State\", \"Color\")\n",
    "    .agg(max(\"Count\").alias(\"Max\"))\n",
    "    .orderBy(desc(\"Max\")).show()"
   ]
  },
  {
   "cell_type": "code",
   "execution_count": 24,
   "id": "3b632dc3-add6-4a74-8ee5-657203d5e549",
   "metadata": {},
   "outputs": [
    {
     "name": "stdout",
     "output_type": "stream",
     "text": [
      "+-----+------+------+\n",
      "|State| Color|Colors|\n",
      "+-----+------+------+\n",
      "|   NV|Orange|  1712|\n",
      "|   NV| Green|  1698|\n",
      "|   NV|Yellow|  1675|\n",
      "|   NV|  Blue|  1673|\n",
      "|   NV| Brown|  1657|\n",
      "|   NV|   Red|  1610|\n",
      "+-----+------+------+\n",
      "\n"
     ]
    },
    {
     "data": {
      "text/plain": [
       "nvMnM: Unit = ()\n"
      ]
     },
     "execution_count": 24,
     "metadata": {},
     "output_type": "execute_result"
    }
   ],
   "source": [
    "val nvMnM = leer\n",
    "    .select(\"State\", \"Color\", \"Count\")\n",
    "    .where(col(\"State\") === \"NV\")\n",
    "    .groupBy(\"State\", \"Color\")\n",
    "    .agg(count(\"Color\").alias(\"Colors\"))\n",
    "    .orderBy(desc(\"Colors\")).show()"
   ]
  },
  {
   "cell_type": "code",
   "execution_count": 25,
   "id": "b5e8cb2a-b0f0-4a0d-af85-e80bc54866c4",
   "metadata": {},
   "outputs": [
    {
     "name": "stdout",
     "output_type": "stream",
     "text": [
      "+-----+------+-----+---+---+\n",
      "|State| Color|Count|Max|Min|\n",
      "+-----+------+-----+---+---+\n",
      "|   AZ|  Blue| 1636| 99| 10|\n",
      "|   AZ| Brown| 1698| 99| 10|\n",
      "|   AZ| Green| 1676| 99| 10|\n",
      "|   AZ|Orange| 1689| 99| 10|\n",
      "|   AZ|   Red| 1648| 99| 10|\n",
      "|   AZ|Yellow| 1654| 99| 10|\n",
      "|   CA|  Blue| 1603| 99| 10|\n",
      "|   CA| Brown| 1718| 99| 10|\n",
      "|   CA| Green| 1723| 99| 10|\n",
      "|   CA|Orange| 1657| 99| 10|\n",
      "|   CA|   Red| 1656| 99| 10|\n",
      "|   CA|Yellow| 1807| 99| 10|\n",
      "|   CO|  Blue| 1695| 99| 10|\n",
      "|   CO| Brown| 1656| 99| 10|\n",
      "|   CO| Green| 1713| 99| 10|\n",
      "|   CO|Orange| 1642| 99| 10|\n",
      "|   CO|   Red| 1624| 99| 10|\n",
      "|   CO|Yellow| 1721| 99| 10|\n",
      "|   NM|  Blue| 1638| 99| 10|\n",
      "|   NM| Brown| 1687| 99| 10|\n",
      "+-----+------+-----+---+---+\n",
      "only showing top 20 rows\n",
      "\n"
     ]
    },
    {
     "data": {
      "text/plain": [
       "operMnM: Unit = ()\n"
      ]
     },
     "execution_count": 25,
     "metadata": {},
     "output_type": "execute_result"
    }
   ],
   "source": [
    "val operMnM = leer.select(\"State\", \"Color\", \"Count\")\n",
    "    .groupBy(\"State\",\"Color\")\n",
    "    .agg(count(\"Count\").alias(\"Count\"),\n",
    "      max(\"Count\").alias(\"Max\"),\n",
    "      min(\"Count\").alias(\"Min\")).show"
   ]
  },
  {
   "cell_type": "code",
   "execution_count": null,
   "id": "7e971c37-bb91-4a18-b02f-75537c09f40f",
   "metadata": {},
   "outputs": [],
   "source": []
  }
 ],
 "metadata": {
  "kernelspec": {
   "display_name": "spylon-kernel",
   "language": "scala",
   "name": "spylon-kernel"
  },
  "language_info": {
   "codemirror_mode": "text/x-scala",
   "file_extension": ".scala",
   "help_links": [
    {
     "text": "MetaKernel Magics",
     "url": "https://metakernel.readthedocs.io/en/latest/source/README.html"
    }
   ],
   "mimetype": "text/x-scala",
   "name": "scala",
   "pygments_lexer": "scala",
   "version": "0.4.1"
  }
 },
 "nbformat": 4,
 "nbformat_minor": 5
}
