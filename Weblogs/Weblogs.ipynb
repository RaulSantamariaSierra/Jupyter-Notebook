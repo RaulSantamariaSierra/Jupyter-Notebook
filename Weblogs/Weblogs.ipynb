{
 "cells": [
  {
   "cell_type": "code",
   "execution_count": 2,
   "id": "eaef7927-1f25-4019-810c-2ce9f43f7263",
   "metadata": {},
   "outputs": [
    {
     "data": {
      "text/plain": [
       "import org.apache.spark.sql.SparkSession\n",
       "import org.apache.spark.sql.functions.{col, desc, hour, regexp_extract, split, sum, to_date}\n"
      ]
     },
     "execution_count": 2,
     "metadata": {},
     "output_type": "execute_result"
    }
   ],
   "source": [
    "import org.apache.spark.sql.SparkSession\n",
    "import org.apache.spark.sql.functions.{col, desc, hour, regexp_extract, split, sum, to_date}"
   ]
  },
  {
   "cell_type": "code",
   "execution_count": 3,
   "id": "413c573f-438f-48a6-a2a5-f7ccc403a911",
   "metadata": {},
   "outputs": [
    {
     "data": {
      "text/plain": [
       "sparkSession: org.apache.spark.sql.SparkSession = org.apache.spark.sql.SparkSession@398ac9eb\n"
      ]
     },
     "execution_count": 3,
     "metadata": {},
     "output_type": "execute_result"
    }
   ],
   "source": [
    "val sparkSession = SparkSession\n",
    "    .builder()\n",
    "    .master(\"local[*]\")\n",
    "    .appName(\"curso\")\n",
    "    .config(\"spark.some.config.option\", \"some-value\")\n",
    "    .getOrCreate()"
   ]
  },
  {
   "cell_type": "code",
   "execution_count": 5,
   "id": "2f9d09c5-93c1-4c95-8b6e-7e1826dfc978",
   "metadata": {},
   "outputs": [
    {
     "data": {
      "text/plain": [
       "leer: org.apache.spark.sql.DataFrame = [requesting_host: string, datetime: timestamp ... 3 more fields]\n"
      ]
     },
     "execution_count": 5,
     "metadata": {},
     "output_type": "execute_result"
    }
   ],
   "source": [
    "var leer = sparkSession.read\n",
    "    .option(\"header\", \"true\")\n",
    "    .option(\"sep\", \" \")\n",
    "    .option(\"inferSchema\", \"true\")\n",
    "    .csv(\"nasa_aug95.csv\")"
   ]
  },
  {
   "cell_type": "code",
   "execution_count": 6,
   "id": "bc4340d2-d512-49f9-811a-fde2b4e47354",
   "metadata": {},
   "outputs": [
    {
     "name": "stdout",
     "output_type": "stream",
     "text": [
      "+---------------------------+-------------------+----------------------------------------------------------------+------+-------------+\n",
      "|requesting_host            |datetime           |request                                                         |status|response_size|\n",
      "+---------------------------+-------------------+----------------------------------------------------------------+------+-------------+\n",
      "|in24.inetnebr.com          |1995-08-01 00:00:01|GET /shuttle/missions/sts-68/news/sts-68-mcc-05.txt HTTP/1.0    |200   |1839         |\n",
      "|uplherc.upl.com            |1995-08-01 00:00:07|GET / HTTP/1.0                                                  |304   |0            |\n",
      "|uplherc.upl.com            |1995-08-01 00:00:08|GET /images/ksclogo-medium.gif HTTP/1.0                         |304   |0            |\n",
      "|uplherc.upl.com            |1995-08-01 00:00:08|GET /images/MOSAIC-logosmall.gif HTTP/1.0                       |304   |0            |\n",
      "|uplherc.upl.com            |1995-08-01 00:00:08|GET /images/USA-logosmall.gif HTTP/1.0                          |304   |0            |\n",
      "|ix-esc-ca2-07.ix.netcom.com|1995-08-01 00:00:09|GET /images/launch-logo.gif HTTP/1.0                            |200   |1713         |\n",
      "|uplherc.upl.com            |1995-08-01 00:00:10|GET /images/WORLD-logosmall.gif HTTP/1.0                        |304   |0            |\n",
      "|slppp6.intermind.net       |1995-08-01 00:00:10|GET /history/skylab/skylab.html HTTP/1.0                        |200   |1687         |\n",
      "|piweba4y.prodigy.com       |1995-08-01 00:00:10|GET /images/launchmedium.gif HTTP/1.0                           |200   |11853        |\n",
      "|slppp6.intermind.net       |1995-08-01 00:00:11|GET /history/skylab/skylab-small.gif HTTP/1.0                   |200   |9202         |\n",
      "|slppp6.intermind.net       |1995-08-01 00:00:12|GET /images/ksclogosmall.gif HTTP/1.0                           |200   |3635         |\n",
      "|ix-esc-ca2-07.ix.netcom.com|1995-08-01 00:00:12|GET /history/apollo/images/apollo-logo1.gif HTTP/1.0            |200   |1173         |\n",
      "|slppp6.intermind.net       |1995-08-01 00:00:13|GET /history/apollo/images/apollo-logo.gif HTTP/1.0             |200   |3047         |\n",
      "|uplherc.upl.com            |1995-08-01 00:00:14|GET /images/NASA-logosmall.gif HTTP/1.0                         |304   |0            |\n",
      "|133.43.96.45               |1995-08-01 00:00:16|GET /shuttle/missions/sts-69/mission-sts-69.html HTTP/1.0       |200   |10566        |\n",
      "|kgtyk4.kj.yamagata-u.ac.jp |1995-08-01 00:00:17|GET / HTTP/1.0                                                  |200   |7280         |\n",
      "|kgtyk4.kj.yamagata-u.ac.jp |1995-08-01 00:00:18|GET /images/ksclogo-medium.gif HTTP/1.0                         |200   |5866         |\n",
      "|d0ucr6.fnal.gov            |1995-08-01 00:00:19|GET /history/apollo/apollo-16/apollo-16.html HTTP/1.0           |200   |2743         |\n",
      "|ix-esc-ca2-07.ix.netcom.com|1995-08-01 00:00:19|GET /shuttle/resources/orbiters/discovery.html HTTP/1.0         |200   |6849         |\n",
      "|d0ucr6.fnal.gov            |1995-08-01 00:00:20|GET /history/apollo/apollo-16/apollo-16-patch-small.gif HTTP/1.0|200   |14897        |\n",
      "+---------------------------+-------------------+----------------------------------------------------------------+------+-------------+\n",
      "only showing top 20 rows\n",
      "\n"
     ]
    }
   ],
   "source": [
    "leer.show(false)"
   ]
  },
  {
   "cell_type": "code",
   "execution_count": 7,
   "id": "ff440a28-b758-49c5-a89e-7f69e3a3f7fe",
   "metadata": {},
   "outputs": [
    {
     "name": "stdout",
     "output_type": "stream",
     "text": [
      "root\n",
      " |-- requesting_host: string (nullable = true)\n",
      " |-- datetime: timestamp (nullable = true)\n",
      " |-- request: string (nullable = true)\n",
      " |-- status: integer (nullable = true)\n",
      " |-- response_size: integer (nullable = true)\n",
      "\n"
     ]
    }
   ],
   "source": [
    "leer.printSchema()"
   ]
  },
  {
   "cell_type": "code",
   "execution_count": 8,
   "id": "3177c622-e198-46fd-a869-49c9e214f2ff",
   "metadata": {},
   "outputs": [
    {
     "name": "stdout",
     "output_type": "stream",
     "text": [
      "+-------------+\n",
      "|   Protocolos|\n",
      "+-------------+\n",
      "|    HTTP/V1.0|\n",
      "|     HTTP/1.0|\n",
      "|     HTML/1.0|\n",
      "|HTTP/1.0From:|\n",
      "+-------------+\n",
      "\n"
     ]
    },
    {
     "data": {
      "text/plain": [
       "prot: Unit = ()\n"
      ]
     },
     "execution_count": 8,
     "metadata": {},
     "output_type": "execute_result"
    }
   ],
   "source": [
    "val prot = leer.withColumn(\"new_row\",split(col(\"request\"), \" \"))\n",
    "    .select(col(\"new_row\").getItem(2).as(\"Protocolos\"))\n",
    "    .filter(col(\"Protocolos\").like(\"%HT%/%\")).distinct().show()"
   ]
  },
  {
   "cell_type": "code",
   "execution_count": 9,
   "id": "2c774ee2-49c4-46f2-9501-4a275cfe45f0",
   "metadata": {},
   "outputs": [
    {
     "name": "stdout",
     "output_type": "stream",
     "text": [
      "+------+-------+\n",
      "|Status|  count|\n",
      "+------+-------+\n",
      "|   200|1398988|\n",
      "|   304| 134146|\n",
      "|   302|  26497|\n",
      "|   404|  10054|\n",
      "|   403|    171|\n",
      "|   501|     27|\n",
      "|   500|      3|\n",
      "|   400|      2|\n",
      "+------+-------+\n",
      "\n"
     ]
    },
    {
     "data": {
      "text/plain": [
       "stat: Unit = ()\n"
      ]
     },
     "execution_count": 9,
     "metadata": {},
     "output_type": "execute_result"
    }
   ],
   "source": [
    "val stat = leer.groupBy(\"Status\").count()\n",
    "    .orderBy(desc(\"Count\")).show()"
   ]
  },
  {
   "cell_type": "code",
   "execution_count": 10,
   "id": "8fe92e55-a868-4dc0-87b4-41c774ca385e",
   "metadata": {},
   "outputs": [
    {
     "name": "stdout",
     "output_type": "stream",
     "text": [
      "+-----------------+-------+\n",
      "|         Peticion|  count|\n",
      "+-----------------+-------+\n",
      "|              GET|1565810|\n",
      "|             HEAD|   3965|\n",
      "|             POST|    111|\n",
      "|huttle/countdown/|      1|\n",
      "|                ?|      1|\n",
      "+-----------------+-------+\n",
      "\n"
     ]
    },
    {
     "data": {
      "text/plain": [
       "pet: Unit = ()\n"
      ]
     },
     "execution_count": 10,
     "metadata": {},
     "output_type": "execute_result"
    }
   ],
   "source": [
    "val pet = leer.withColumn(\"new_row\",split(col(\"request\"), \" \"))\n",
    "    .select(col(\"new_row\").getItem(0).as(\"Peticion\"))\n",
    "    .groupBy(\"Peticion\").count().orderBy(col(\"count\").desc).show()"
   ]
  },
  {
   "cell_type": "code",
   "execution_count": 11,
   "id": "6b9e91bb-1bbd-428e-b127-74d761ded1eb",
   "metadata": {},
   "outputs": [
    {
     "name": "stdout",
     "output_type": "stream",
     "text": [
      "+---------------+-------------+\n",
      "|requesting_host|response_size|\n",
      "+---------------+-------------+\n",
      "| 163.205.156.16|      3421948|\n",
      "+---------------+-------------+\n",
      "\n"
     ]
    },
    {
     "data": {
      "text/plain": [
       "tran: Unit = ()\n"
      ]
     },
     "execution_count": 11,
     "metadata": {},
     "output_type": "execute_result"
    }
   ],
   "source": [
    "val tran = leer.filter(col(\"response_size\").isNotNull)\n",
    "    .select(col(\"requesting_host\"), col(\"response_size\"))\n",
    "    .orderBy(col(\"response_size\").desc).limit(1).show()"
   ]
  },
  {
   "cell_type": "code",
   "execution_count": 12,
   "id": "228b4fb4-3699-4f6a-98b4-ebbcdbed70cc",
   "metadata": {},
   "outputs": [
    {
     "name": "stdout",
     "output_type": "stream",
     "text": [
      "+-----------------+-----+\n",
      "|to_date(datetime)|count|\n",
      "+-----------------+-----+\n",
      "|       1995-08-31|90122|\n",
      "+-----------------+-----+\n",
      "\n"
     ]
    },
    {
     "data": {
      "text/plain": [
       "tra: Unit = ()\n"
      ]
     },
     "execution_count": 12,
     "metadata": {},
     "output_type": "execute_result"
    }
   ],
   "source": [
    "val tra = leer.groupBy(to_date(col(\"datetime\"))).count()\n",
    "    .orderBy(col(\"count\").desc).limit(1).show()"
   ]
  },
  {
   "cell_type": "code",
   "execution_count": 13,
   "id": "eb5a869e-c815-46f0-8fa7-8ac9da210e1b",
   "metadata": {},
   "outputs": [
    {
     "name": "stdout",
     "output_type": "stream",
     "text": [
      "+--------------+-----+\n",
      "|hour(datetime)|count|\n",
      "+--------------+-----+\n",
      "|             4|26756|\n",
      "|             5|27587|\n",
      "|             3|29995|\n",
      "|             6|31287|\n",
      "|             2|32508|\n",
      "|             1|38531|\n",
      "|             7|47386|\n",
      "|             0|47862|\n",
      "|            23|54570|\n",
      "|            21|57985|\n",
      "|            19|59315|\n",
      "|            20|59944|\n",
      "|            22|60673|\n",
      "|             8|65443|\n",
      "|            18|66809|\n",
      "|             9|78695|\n",
      "|            17|80834|\n",
      "|            10|88309|\n",
      "|            11|95340|\n",
      "|            16|99527|\n",
      "+--------------+-----+\n",
      "only showing top 20 rows\n",
      "\n"
     ]
    },
    {
     "data": {
      "text/plain": [
       "hor: Unit = ()\n"
      ]
     },
     "execution_count": 13,
     "metadata": {},
     "output_type": "execute_result"
    }
   ],
   "source": [
    "val hor = leer.groupBy(hour(col(\"datetime\"))).count()\n",
    "    .orderBy(col(\"count\")).show()"
   ]
  },
  {
   "cell_type": "code",
   "execution_count": 14,
   "id": "ad1a0751-9151-4728-8fc5-88564163d355",
   "metadata": {},
   "outputs": [
    {
     "name": "stdout",
     "output_type": "stream",
     "text": [
      "+-----------------+-----+\n",
      "|to_date(datetime)|count|\n",
      "+-----------------+-----+\n",
      "|       1995-08-12|  196|\n",
      "|       1995-08-19|  209|\n",
      "|       1995-08-13|  216|\n",
      "|       1995-08-05|  236|\n",
      "|       1995-08-01|  243|\n",
      "|       1995-08-18|  255|\n",
      "|       1995-08-16|  259|\n",
      "|       1995-08-11|  263|\n",
      "|       1995-08-17|  271|\n",
      "|       1995-08-09|  279|\n",
      "|       1995-08-14|  287|\n",
      "|       1995-08-22|  288|\n",
      "|       1995-08-03|  303|\n",
      "|       1995-08-21|  305|\n",
      "|       1995-08-20|  312|\n",
      "|       1995-08-10|  315|\n",
      "|       1995-08-15|  327|\n",
      "|       1995-08-23|  345|\n",
      "|       1995-08-04|  346|\n",
      "|       1995-08-26|  366|\n",
      "+-----------------+-----+\n",
      "only showing top 20 rows\n",
      "\n"
     ]
    },
    {
     "data": {
      "text/plain": [
       "err: Unit = ()\n"
      ]
     },
     "execution_count": 14,
     "metadata": {},
     "output_type": "execute_result"
    }
   ],
   "source": [
    "val err = leer.filter(col(\"status\").equalTo(404))\n",
    "    .groupBy(to_date(col(\"datetime\"))).count()\n",
    "    .orderBy(col(\"count\")).show()"
   ]
  }
 ],
 "metadata": {
  "kernelspec": {
   "display_name": "spylon-kernel",
   "language": "scala",
   "name": "spylon-kernel"
  },
  "language_info": {
   "codemirror_mode": "text/x-scala",
   "file_extension": ".scala",
   "help_links": [
    {
     "text": "MetaKernel Magics",
     "url": "https://metakernel.readthedocs.io/en/latest/source/README.html"
    }
   ],
   "mimetype": "text/x-scala",
   "name": "scala",
   "pygments_lexer": "scala",
   "version": "0.4.1"
  }
 },
 "nbformat": 4,
 "nbformat_minor": 5
}
