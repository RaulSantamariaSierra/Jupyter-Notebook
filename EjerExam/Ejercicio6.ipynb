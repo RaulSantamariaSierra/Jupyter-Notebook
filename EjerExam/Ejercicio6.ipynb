{
 "cells": [
  {
   "cell_type": "code",
   "execution_count": 2,
   "id": "3a83a707-3182-42de-baaf-766f40c58137",
   "metadata": {},
   "outputs": [
    {
     "data": {
      "text/plain": [
       "import org.apache.spark.sql.SparkSession\n",
       "import org.apache.spark.sql.types.{IntegerType, StringType, StructField, StructType}\n"
      ]
     },
     "execution_count": 2,
     "metadata": {},
     "output_type": "execute_result"
    }
   ],
   "source": [
    "import org.apache.spark.sql.SparkSession\n",
    "import org.apache.spark.sql.types.{IntegerType, StringType, StructField, StructType}"
   ]
  },
  {
   "cell_type": "code",
   "execution_count": 3,
   "id": "a084a1ca-7f06-45da-a293-a4791c54f623",
   "metadata": {},
   "outputs": [
    {
     "data": {
      "text/plain": [
       "sparkSession: org.apache.spark.sql.SparkSession = org.apache.spark.sql.SparkSession@4070b765\n"
      ]
     },
     "execution_count": 3,
     "metadata": {},
     "output_type": "execute_result"
    }
   ],
   "source": [
    "val sparkSession = SparkSession\n",
    "    .builder()\n",
    "    .master(\"local[*]\")\n",
    "    .appName(\"curso\")\n",
    "    .config(\"spark.some.config.option\", \"some-value\")\n",
    "    .getOrCreate()"
   ]
  },
  {
   "cell_type": "code",
   "execution_count": 4,
   "id": "bbf090eb-e2b6-416e-9b3f-ebc1a6c7551c",
   "metadata": {},
   "outputs": [
    {
     "data": {
      "text/plain": [
       "esq: org.apache.spark.sql.types.StructType = StructType(StructField(Category_id,IntegerType,true), StructField(Category_department_id,IntegerType,true), StructField(Category_name,StringType,true))\n"
      ]
     },
     "execution_count": 4,
     "metadata": {},
     "output_type": "execute_result"
    }
   ],
   "source": [
    "val esq = StructType(Array(\n",
    "    StructField(\"Category_id\", IntegerType, true),\n",
    "    StructField(\"Category_department_id\", IntegerType ,true),\n",
    "    StructField(\"Category_name\", StringType ,true)\n",
    "  ))"
   ]
  },
  {
   "cell_type": "code",
   "execution_count": 6,
   "id": "1b1fc9ac-88b0-4ad6-b86c-37453b74127a",
   "metadata": {},
   "outputs": [
    {
     "data": {
      "text/plain": [
       "leer: org.apache.spark.sql.DataFrame = [Category_id: int, Category_department_id: int ... 1 more field]\n"
      ]
     },
     "execution_count": 6,
     "metadata": {},
     "output_type": "execute_result"
    }
   ],
   "source": [
    "val leer = sparkSession.read.option(\"header\", \"true\").schema(esq).csv(\"categories\")"
   ]
  },
  {
   "cell_type": "code",
   "execution_count": 8,
   "id": "66956523-e68e-468d-aa0e-b7a0102a25e5",
   "metadata": {},
   "outputs": [
    {
     "name": "stdout",
     "output_type": "stream",
     "text": [
      "+-----------+----------------------+-------------------+\n",
      "|Category_id|Category_department_id|      Category_name|\n",
      "+-----------+----------------------+-------------------+\n",
      "|          2|                     2|             Soccer|\n",
      "|          3|                     2|Baseball & Softball|\n",
      "|          4|                     2|         Basketball|\n",
      "|          5|                     2|           Lacrosse|\n",
      "|          6|                     2|   Tennis & Racquet|\n",
      "|          7|                     2|             Hockey|\n",
      "|          8|                     2|        More Sports|\n",
      "|          9|                     3|   Cardio Equipment|\n",
      "|         10|                     3|  Strength Training|\n",
      "|         11|                     3|Fitness Accessories|\n",
      "+-----------+----------------------+-------------------+\n",
      "only showing top 10 rows\n",
      "\n"
     ]
    }
   ],
   "source": [
    "leer.show(10)"
   ]
  },
  {
   "cell_type": "code",
   "execution_count": 9,
   "id": "fa3207ca-bdfb-4f1e-9735-bcc043edfc3d",
   "metadata": {},
   "outputs": [
    {
     "data": {
      "text/plain": [
       "con: org.apache.spark.sql.Dataset[org.apache.spark.sql.Row] = [Category_id: int, Category_department_id: int ... 1 more field]\n"
      ]
     },
     "execution_count": 9,
     "metadata": {},
     "output_type": "execute_result"
    }
   ],
   "source": [
    "val con = df.filter(\"Category_name = 'Soccer'\")"
   ]
  },
  {
   "cell_type": "code",
   "execution_count": 10,
   "id": "93863580-81df-4a28-b2f9-763a06ba4705",
   "metadata": {},
   "outputs": [
    {
     "name": "stdout",
     "output_type": "stream",
     "text": [
      "+-----------+----------------------+-------------+\n",
      "|Category_id|Category_department_id|Category_name|\n",
      "+-----------+----------------------+-------------+\n",
      "|          2|                     2|       Soccer|\n",
      "+-----------+----------------------+-------------+\n",
      "\n"
     ]
    }
   ],
   "source": [
    "con.show()"
   ]
  },
  {
   "cell_type": "code",
   "execution_count": 11,
   "id": "4a84974c-2d94-4b6c-904d-a2acd9a84bdb",
   "metadata": {},
   "outputs": [],
   "source": [
    "con.write.format(\"csv\").mode(\"overwrite\").option(\"sep\",\" \")\n",
    "    .save(\"q6/solution\")"
   ]
  },
  {
   "cell_type": "code",
   "execution_count": null,
   "id": "9f82549e-465b-43d3-ac8f-15887a0cfbcd",
   "metadata": {},
   "outputs": [],
   "source": []
  }
 ],
 "metadata": {
  "kernelspec": {
   "display_name": "spylon-kernel",
   "language": "scala",
   "name": "spylon-kernel"
  },
  "language_info": {
   "codemirror_mode": "text/x-scala",
   "file_extension": ".scala",
   "help_links": [
    {
     "text": "MetaKernel Magics",
     "url": "https://metakernel.readthedocs.io/en/latest/source/README.html"
    }
   ],
   "mimetype": "text/x-scala",
   "name": "scala",
   "pygments_lexer": "scala",
   "version": "0.4.1"
  }
 },
 "nbformat": 4,
 "nbformat_minor": 5
}
