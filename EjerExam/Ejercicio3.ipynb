{
 "cells": [
  {
   "cell_type": "code",
   "execution_count": 50,
   "id": "ed9df620-7cd6-4c0a-a129-4af5673d919b",
   "metadata": {},
   "outputs": [
    {
     "data": {
      "text/plain": [
       "import org.apache.spark.sql.SparkSession\n",
       "import org.apache.spark.sql.functions.{col, concat_ws}\n"
      ]
     },
     "execution_count": 50,
     "metadata": {},
     "output_type": "execute_result"
    }
   ],
   "source": [
    "import org.apache.spark.sql.SparkSession\n",
    "import org.apache.spark.sql.functions.{col, concat_ws}"
   ]
  },
  {
   "cell_type": "code",
   "execution_count": 51,
   "id": "165b0809-127d-44d6-9631-32d9a58c3e8f",
   "metadata": {},
   "outputs": [
    {
     "data": {
      "text/plain": [
       "sparkSession: org.apache.spark.sql.SparkSession = org.apache.spark.sql.SparkSession@78592c46\n"
      ]
     },
     "execution_count": 51,
     "metadata": {},
     "output_type": "execute_result"
    }
   ],
   "source": [
    "val sparkSession = SparkSession\n",
    "    .builder()\n",
    "    .master(\"local[*]\")\n",
    "    .appName(\"curso\")\n",
    "    //.config(\"spark.some.config.option\", \"some-value\")\n",
    "    .config(\"spark.jars.packages\", \"com.databricks:spark-avro_2.10:2.0.1,com.databricks:spark-csv_2.10:1.5.0\")\n",
    "    .getOrCreate()"
   ]
  },
  {
   "cell_type": "code",
   "execution_count": 49,
   "id": "c0c81b51-2146-427f-8223-e65f52bb7f99",
   "metadata": {},
   "outputs": [
    {
     "ename": "org.apache.spark.sql.AnalysisException",
     "evalue": "  Failed to find data source: avro. Avro is built-in but external data source module since Spark 2.4. Please deploy the application as per the deployment section of \"Apache Avro Data Source Guide\".",
     "output_type": "error",
     "traceback": [
      "org.apache.spark.sql.AnalysisException:  Failed to find data source: avro. Avro is built-in but external data source module since Spark 2.4. Please deploy the application as per the deployment section of \"Apache Avro Data Source Guide\".",
      "  at org.apache.spark.sql.errors.QueryCompilationErrors$.failedToFindAvroDataSourceError(QueryCompilationErrors.scala:1028)",
      "  at org.apache.spark.sql.execution.datasources.DataSource$.lookupDataSource(DataSource.scala:666)",
      "  at org.apache.spark.sql.execution.datasources.DataSource$.lookupDataSourceV2(DataSource.scala:720)",
      "  at org.apache.spark.sql.DataFrameReader.load(DataFrameReader.scala:210)",
      "  at org.apache.spark.sql.DataFrameReader.load(DataFrameReader.scala:188)",
      "  ... 37 elided",
      ""
     ]
    }
   ],
   "source": [
    "var leer = sparkSession.read.format(\"avro\").load(\"customers-avro/part-m-00000.avro\")"
   ]
  },
  {
   "cell_type": "code",
   "execution_count": null,
   "id": "2d81fa9d-5577-40cc-96d8-f800898ee6cf",
   "metadata": {},
   "outputs": [],
   "source": []
  }
 ],
 "metadata": {
  "kernelspec": {
   "display_name": "spylon-kernel",
   "language": "scala",
   "name": "spylon-kernel"
  },
  "language_info": {
   "codemirror_mode": "text/x-scala",
   "file_extension": ".scala",
   "help_links": [
    {
     "text": "MetaKernel Magics",
     "url": "https://metakernel.readthedocs.io/en/latest/source/README.html"
    }
   ],
   "mimetype": "text/x-scala",
   "name": "scala",
   "pygments_lexer": "scala",
   "version": "0.4.1"
  }
 },
 "nbformat": 4,
 "nbformat_minor": 5
}
