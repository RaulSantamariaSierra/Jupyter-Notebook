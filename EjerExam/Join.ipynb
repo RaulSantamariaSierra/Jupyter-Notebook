{
 "cells": [
  {
   "cell_type": "code",
   "execution_count": 2,
   "id": "636ab2ba-0f37-4e46-8e46-4e7efe9c0ff7",
   "metadata": {},
   "outputs": [
    {
     "data": {
      "text/plain": [
       "import org.apache.spark.sql.SparkSession\n",
       "import org.apache.spark.sql.functions.{asc, col, desc}\n",
       "import org.apache.spark.sql.types.{IntegerType, StringType, StructField, StructType}\n"
      ]
     },
     "execution_count": 2,
     "metadata": {},
     "output_type": "execute_result"
    }
   ],
   "source": [
    "import org.apache.spark.sql.SparkSession\n",
    "import org.apache.spark.sql.functions.{asc, col, desc}\n",
    "import org.apache.spark.sql.types.{IntegerType, StringType, StructField, StructType}"
   ]
  },
  {
   "cell_type": "code",
   "execution_count": 3,
   "id": "a1afd0ee-d3eb-42eb-a73e-a73c1d5f1ed6",
   "metadata": {},
   "outputs": [
    {
     "data": {
      "text/plain": [
       "sparkSession: org.apache.spark.sql.SparkSession = org.apache.spark.sql.SparkSession@1cc7f32c\n"
      ]
     },
     "execution_count": 3,
     "metadata": {},
     "output_type": "execute_result"
    }
   ],
   "source": [
    "val sparkSession = SparkSession\n",
    "    .builder()\n",
    "    .master(\"local[*]\")\n",
    "    .appName(\"curso\")\n",
    "    .config(\"spark.some.config.option\", \"some-value\")\n",
    "    .getOrCreate()"
   ]
  },
  {
   "cell_type": "code",
   "execution_count": 14,
   "id": "a128ea79-20b0-4342-95ab-be795c4eeda0",
   "metadata": {},
   "outputs": [
    {
     "data": {
      "text/plain": [
       "cus: org.apache.spark.sql.DataFrame = [customer_id: string, customer_fname: string ... 7 more fields]\n"
      ]
     },
     "execution_count": 14,
     "metadata": {},
     "output_type": "execute_result"
    }
   ],
   "source": [
    "val cus = sparkSession.read.option(\"header\", \"true\").csv(\"customers\")"
   ]
  },
  {
   "cell_type": "code",
   "execution_count": 15,
   "id": "b9128820-294e-42f7-bbb2-c2047e54d940",
   "metadata": {},
   "outputs": [
    {
     "name": "stdout",
     "output_type": "stream",
     "text": [
      "+-----------+--------------+--------------+--------------+-----------------+--------------------+-------------+--------------+----------------+\n",
      "|customer_id|customer_fname|customer_lname|customer_email|customer_password|     customer_street|customer_city|customer_state|customer_zipcode|\n",
      "+-----------+--------------+--------------+--------------+-----------------+--------------------+-------------+--------------+----------------+\n",
      "|          1|       Richard|     Hernandez|     XXXXXXXXX|        XXXXXXXXX|  6303 Heather Plaza|  Brownsville|            TX|           78521|\n",
      "|          2|          Mary|       Barrett|     XXXXXXXXX|        XXXXXXXXX|9526 Noble Embers...|    Littleton|            CO|           80126|\n",
      "|          3|           Ann|         Smith|     XXXXXXXXX|        XXXXXXXXX|3422 Blue Pioneer...|       Caguas|            PR|           00725|\n",
      "|          4|          Mary|         Jones|     XXXXXXXXX|        XXXXXXXXX|  8324 Little Common|   San Marcos|            CA|           92069|\n",
      "|          5|        Robert|        Hudson|     XXXXXXXXX|        XXXXXXXXX|10 Crystal River ...|       Caguas|            PR|           00725|\n",
      "|          6|          Mary|         Smith|     XXXXXXXXX|        XXXXXXXXX|3151 Sleepy Quail...|      Passaic|            NJ|           07055|\n",
      "|          7|       Melissa|        Wilcox|     XXXXXXXXX|        XXXXXXXXX|9453 High Concession|       Caguas|            PR|           00725|\n",
      "|          8|         Megan|         Smith|     XXXXXXXXX|        XXXXXXXXX|3047 Foggy Forest...|     Lawrence|            MA|           01841|\n",
      "|          9|          Mary|         Perez|     XXXXXXXXX|        XXXXXXXXX| 3616 Quaking Street|       Caguas|            PR|           00725|\n",
      "|         10|       Melissa|         Smith|     XXXXXXXXX|        XXXXXXXXX|8598 Harvest Beac...|     Stafford|            VA|           22554|\n",
      "|         11|          Mary|       Huffman|     XXXXXXXXX|        XXXXXXXXX|    3169 Stony Woods|       Caguas|            PR|           00725|\n",
      "|         12|   Christopher|         Smith|     XXXXXXXXX|        XXXXXXXXX|5594 Jagged Ember...|  San Antonio|            TX|           78227|\n",
      "|         13|          Mary|       Baldwin|     XXXXXXXXX|        XXXXXXXXX|7922 Iron Oak Gar...|       Caguas|            PR|           00725|\n",
      "|         14|     Katherine|         Smith|     XXXXXXXXX|        XXXXXXXXX|5666 Hazy Pony Sq...|  Pico Rivera|            CA|           90660|\n",
      "|         15|          Jane|          Luna|     XXXXXXXXX|        XXXXXXXXX|    673 Burning Glen|      Fontana|            CA|           92336|\n",
      "|         16|       Tiffany|         Smith|     XXXXXXXXX|        XXXXXXXXX|      6651 Iron Port|       Caguas|            PR|           00725|\n",
      "|         17|          Mary|      Robinson|     XXXXXXXXX|        XXXXXXXXX|     1325 Noble Pike|       Taylor|            MI|           48180|\n",
      "|         18|        Robert|         Smith|     XXXXXXXXX|        XXXXXXXXX|2734 Hazy Butterf...|     Martinez|            CA|           94553|\n",
      "|         19|     Stephanie|      Mitchell|     XXXXXXXXX|        XXXXXXXXX|3543 Red Treasure...|       Caguas|            PR|           00725|\n",
      "|         20|          Mary|         Ellis|     XXXXXXXXX|        XXXXXXXXX|      4703 Old Route|West New York|            NJ|           07093|\n",
      "+-----------+--------------+--------------+--------------+-----------------+--------------------+-------------+--------------+----------------+\n",
      "only showing top 20 rows\n",
      "\n"
     ]
    }
   ],
   "source": [
    "cus.show()"
   ]
  },
  {
   "cell_type": "code",
   "execution_count": 9,
   "id": "f6fbf3e9-4049-4be7-b663-91427da3a6b8",
   "metadata": {},
   "outputs": [
    {
     "data": {
      "text/plain": [
       "esq: org.apache.spark.sql.types.StructType = StructType(StructField(order_id,IntegerType,true), StructField(order_date,StringType,true), StructField(order_customer_id,IntegerType,true), StructField(order_status,StringType,true))\n"
      ]
     },
     "execution_count": 9,
     "metadata": {},
     "output_type": "execute_result"
    }
   ],
   "source": [
    "val esq = StructType(Array(\n",
    "    StructField(\"order_id\", IntegerType, true),\n",
    "    StructField(\"order_date\", StringType, true),\n",
    "    StructField(\"order_customer_id\", IntegerType, true),\n",
    "    StructField(\"order_status\", StringType, true)\n",
    "  ))"
   ]
  },
  {
   "cell_type": "code",
   "execution_count": 11,
   "id": "da1d73ca-b04d-489c-83ca-ac41a721fb65",
   "metadata": {},
   "outputs": [
    {
     "data": {
      "text/plain": [
       "ord: org.apache.spark.sql.DataFrame = [order_id: int, order_date: string ... 2 more fields]\n"
      ]
     },
     "execution_count": 11,
     "metadata": {},
     "output_type": "execute_result"
    }
   ],
   "source": [
    "val ord = sparkSession.read.option(\"header\", \"true\").schema(esq).csv(\"orders\")"
   ]
  },
  {
   "cell_type": "code",
   "execution_count": 12,
   "id": "3d550a65-d911-4c57-bd93-f4af52e7927d",
   "metadata": {},
   "outputs": [
    {
     "name": "stdout",
     "output_type": "stream",
     "text": [
      "+--------+--------------------+-----------------+---------------+\n",
      "|order_id|          order_date|order_customer_id|   order_status|\n",
      "+--------+--------------------+-----------------+---------------+\n",
      "|       2|2013-07-25 00:00:...|              256|PENDING_PAYMENT|\n",
      "|       3|2013-07-25 00:00:...|            12111|       COMPLETE|\n",
      "|       4|2013-07-25 00:00:...|             8827|         CLOSED|\n",
      "|       5|2013-07-25 00:00:...|            11318|       COMPLETE|\n",
      "|       6|2013-07-25 00:00:...|             7130|       COMPLETE|\n",
      "|       7|2013-07-25 00:00:...|             4530|       COMPLETE|\n",
      "|       8|2013-07-25 00:00:...|             2911|     PROCESSING|\n",
      "|       9|2013-07-25 00:00:...|             5657|PENDING_PAYMENT|\n",
      "|      10|2013-07-25 00:00:...|             5648|PENDING_PAYMENT|\n",
      "|      11|2013-07-25 00:00:...|              918| PAYMENT_REVIEW|\n",
      "|      12|2013-07-25 00:00:...|             1837|         CLOSED|\n",
      "|      13|2013-07-25 00:00:...|             9149|PENDING_PAYMENT|\n",
      "|      14|2013-07-25 00:00:...|             9842|     PROCESSING|\n",
      "|      15|2013-07-25 00:00:...|             2568|       COMPLETE|\n",
      "|      16|2013-07-25 00:00:...|             7276|PENDING_PAYMENT|\n",
      "|      17|2013-07-25 00:00:...|             2667|       COMPLETE|\n",
      "|      18|2013-07-25 00:00:...|             1205|         CLOSED|\n",
      "|      19|2013-07-25 00:00:...|             9488|PENDING_PAYMENT|\n",
      "|      20|2013-07-25 00:00:...|             9198|     PROCESSING|\n",
      "|      21|2013-07-25 00:00:...|             2711|        PENDING|\n",
      "+--------+--------------------+-----------------+---------------+\n",
      "only showing top 20 rows\n",
      "\n"
     ]
    }
   ],
   "source": [
    "ord.show()"
   ]
  },
  {
   "cell_type": "code",
   "execution_count": 16,
   "id": "a030c34a-66d8-4924-9fae-7d4d8798ba66",
   "metadata": {},
   "outputs": [
    {
     "data": {
      "text/plain": [
       "join: org.apache.spark.sql.Dataset[org.apache.spark.sql.Row] = [customer_fname: string, customer_lname: string ... 1 more field]\n"
      ]
     },
     "execution_count": 16,
     "metadata": {},
     "output_type": "execute_result"
    }
   ],
   "source": [
    "val join = ord.groupBy(col(\"order_customer_id\")).count().where(col(\"count\").gt(5))\n",
    "    .join(cus, ord.col(\"order_customer_id\") === cus.col(\"customer_id\") , \"inner\" )\n",
    "    .select(\"customer_fname\",\"customer_lname\", \"count\" )\n",
    "    .filter(col(\"customer_fname\").startsWith(\"M\"))\n",
    "    .orderBy(desc(\"count\"))"
   ]
  },
  {
   "cell_type": "code",
   "execution_count": 17,
   "id": "dcda0f4a-c54d-4ed0-8855-e6d6a1c509d1",
   "metadata": {},
   "outputs": [
    {
     "name": "stdout",
     "output_type": "stream",
     "text": [
      "+--------------+--------------+-----+\n",
      "|customer_fname|customer_lname|count|\n",
      "+--------------+--------------+-----+\n",
      "|          Mary|          Frye|   16|\n",
      "|          Mary|       Griffin|   16|\n",
      "|          Mary|          Rios|   16|\n",
      "|          Mary|          Rios|   16|\n",
      "|          Mary|       Griffin|   16|\n",
      "|          Mary|          Frye|   16|\n",
      "|          Mary|           Cox|   15|\n",
      "|          Mary|         Smith|   15|\n",
      "|          Mary|           Cox|   15|\n",
      "|          Mary|         Smith|   15|\n",
      "|          Mary|          Mata|   15|\n",
      "|          Mary|          Mata|   15|\n",
      "|          Mary|         Cline|   14|\n",
      "|          Mary|        Butler|   14|\n",
      "|          Mary|         Cline|   14|\n",
      "|          Mary|         Smith|   14|\n",
      "|          Mary|         Smith|   14|\n",
      "|          Mary|        Butler|   14|\n",
      "|          Mary|         Smith|   14|\n",
      "|          Mary|         Smith|   14|\n",
      "+--------------+--------------+-----+\n",
      "only showing top 20 rows\n",
      "\n"
     ]
    }
   ],
   "source": [
    "join.show()"
   ]
  },
  {
   "cell_type": "code",
   "execution_count": null,
   "id": "cf254dbb-1d32-4801-8573-59cce6999572",
   "metadata": {},
   "outputs": [],
   "source": []
  }
 ],
 "metadata": {
  "kernelspec": {
   "display_name": "spylon-kernel",
   "language": "scala",
   "name": "spylon-kernel"
  },
  "language_info": {
   "codemirror_mode": "text/x-scala",
   "file_extension": ".scala",
   "help_links": [
    {
     "text": "MetaKernel Magics",
     "url": "https://metakernel.readthedocs.io/en/latest/source/README.html"
    }
   ],
   "mimetype": "text/x-scala",
   "name": "scala",
   "pygments_lexer": "scala",
   "version": "0.4.1"
  }
 },
 "nbformat": 4,
 "nbformat_minor": 5
}
