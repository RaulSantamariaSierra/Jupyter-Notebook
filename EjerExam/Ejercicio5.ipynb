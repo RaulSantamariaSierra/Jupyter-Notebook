{
 "cells": [
  {
   "cell_type": "code",
   "execution_count": 2,
   "id": "08f531b9-fccc-490d-8500-a9d32ecf5821",
   "metadata": {},
   "outputs": [
    {
     "data": {
      "text/plain": [
       "import org.apache.spark.sql.SparkSession\n",
       "import org.apache.spark.sql.functions.desc\n",
       "import org.apache.spark.sql.types.{IntegerType, StringType, StructField, StructType}\n"
      ]
     },
     "execution_count": 2,
     "metadata": {},
     "output_type": "execute_result"
    }
   ],
   "source": [
    "import org.apache.spark.sql.SparkSession\n",
    "import org.apache.spark.sql.functions.desc\n",
    "import org.apache.spark.sql.types.{IntegerType, StringType, StructField, StructType}"
   ]
  },
  {
   "cell_type": "code",
   "execution_count": 3,
   "id": "d77d0a5c-947e-4257-b8e8-8d97d00ba2ee",
   "metadata": {},
   "outputs": [
    {
     "data": {
      "text/plain": [
       "sparkSession: org.apache.spark.sql.SparkSession = org.apache.spark.sql.SparkSession@6bf84d2\n"
      ]
     },
     "execution_count": 3,
     "metadata": {},
     "output_type": "execute_result"
    }
   ],
   "source": [
    "val sparkSession = SparkSession\n",
    "    .builder()\n",
    "    .master(\"local[*]\")\n",
    "    .appName(\"curso\")\n",
    "    .config(\"spark.some.config.option\", \"some-value\")\n",
    "    .getOrCreate()"
   ]
  },
  {
   "cell_type": "code",
   "execution_count": 4,
   "id": "39c239dd-6769-4f9b-bbb2-d86f09e96e3a",
   "metadata": {},
   "outputs": [
    {
     "data": {
      "text/plain": [
       "esq: org.apache.spark.sql.types.StructType = StructType(StructField(Category_id,IntegerType,true), StructField(Category_department_id,IntegerType,true), StructField(Category_name,StringType,true))\n"
      ]
     },
     "execution_count": 4,
     "metadata": {},
     "output_type": "execute_result"
    }
   ],
   "source": [
    "val esq = StructType(Array(\n",
    "    StructField(\"Category_id\", IntegerType, true),\n",
    "    StructField(\"Category_department_id\", IntegerType ,true),\n",
    "    StructField(\"Category_name\", StringType ,true)\n",
    "  ))"
   ]
  },
  {
   "cell_type": "code",
   "execution_count": 8,
   "id": "b261c907-319d-4078-b939-7bb719157c67",
   "metadata": {},
   "outputs": [
    {
     "data": {
      "text/plain": [
       "leer: org.apache.spark.sql.DataFrame = [Category_id: int, Category_department_id: int ... 1 more field]\n"
      ]
     },
     "execution_count": 8,
     "metadata": {},
     "output_type": "execute_result"
    }
   ],
   "source": [
    "val leer = sparkSession.read.option(\"header\", \"true\").schema(esq).csv(\"categories\")"
   ]
  },
  {
   "cell_type": "code",
   "execution_count": 9,
   "id": "d399fec6-2c01-4590-b9ee-ee8c18d1a130",
   "metadata": {},
   "outputs": [
    {
     "name": "stdout",
     "output_type": "stream",
     "text": [
      "+-----------+----------------------+-------------------+\n",
      "|Category_id|Category_department_id|      Category_name|\n",
      "+-----------+----------------------+-------------------+\n",
      "|          2|                     2|             Soccer|\n",
      "|          3|                     2|Baseball & Softball|\n",
      "|          4|                     2|         Basketball|\n",
      "|          5|                     2|           Lacrosse|\n",
      "|          6|                     2|   Tennis & Racquet|\n",
      "|          7|                     2|             Hockey|\n",
      "|          8|                     2|        More Sports|\n",
      "|          9|                     3|   Cardio Equipment|\n",
      "|         10|                     3|  Strength Training|\n",
      "|         11|                     3|Fitness Accessories|\n",
      "|         12|                     3|       Boxing & MMA|\n",
      "|         13|                     3|        Electronics|\n",
      "|         14|                     3|     Yoga & Pilates|\n",
      "|         15|                     3|  Training by Sport|\n",
      "|         16|                     3|    As Seen on  TV!|\n",
      "|         17|                     4|             Cleats|\n",
      "|         18|                     4|     Men's Footwear|\n",
      "|         19|                     4|   Women's Footwear|\n",
      "|         20|                     4|     Kids' Footwear|\n",
      "|         21|                     4|     Featured Shops|\n",
      "+-----------+----------------------+-------------------+\n",
      "only showing top 20 rows\n",
      "\n"
     ]
    }
   ],
   "source": [
    "leer.show()"
   ]
  },
  {
   "cell_type": "code",
   "execution_count": 10,
   "id": "caaea692-65a4-4dcc-a5cd-ed424975605a",
   "metadata": {},
   "outputs": [
    {
     "data": {
      "text/plain": [
       "con: org.apache.spark.sql.Dataset[org.apache.spark.sql.Row] = [Category_id: int, Category_name: string]\n"
      ]
     },
     "execution_count": 10,
     "metadata": {},
     "output_type": "execute_result"
    }
   ],
   "source": [
    "val con = df.select(\"Category_id\",\"Category_name\").orderBy(desc(\"Category_id\"))"
   ]
  },
  {
   "cell_type": "code",
   "execution_count": 11,
   "id": "c510a13d-5b47-4788-9fc9-f57342298d0e",
   "metadata": {},
   "outputs": [
    {
     "name": "stdout",
     "output_type": "stream",
     "text": [
      "+-----------+--------------------+\n",
      "|Category_id|       Category_name|\n",
      "+-----------+--------------------+\n",
      "|         58|         NFL Players|\n",
      "|         57|         MLB Players|\n",
      "|         56|      World Cup Shop|\n",
      "|         55|International Soccer|\n",
      "|         54|                 MLS|\n",
      "|         53|                NCAA|\n",
      "|         52|                 NBA|\n",
      "|         51|                 NHL|\n",
      "|         50|                 NFL|\n",
      "|         49|                 MLB|\n",
      "|         48|        Water Sports|\n",
      "|         47|             Boating|\n",
      "|         46|Indoor/Outdoor Games|\n",
      "|         45|             Fishing|\n",
      "|         44|  Hunting & Shooting|\n",
      "|         43|    Camping & Hiking|\n",
      "|         42|   Bike & Skate Shop|\n",
      "|         41|            Trade-In|\n",
      "|         40|         Accessories|\n",
      "|         39|           Team Shop|\n",
      "+-----------+--------------------+\n",
      "only showing top 20 rows\n",
      "\n"
     ]
    }
   ],
   "source": [
    "con.show()"
   ]
  },
  {
   "cell_type": "code",
   "execution_count": 12,
   "id": "60ac9878-8001-48ef-9355-dbcb915b4510",
   "metadata": {},
   "outputs": [],
   "source": [
    "con.write.format(\"csv\").mode(\"overwrite\").option(\"sep\",\":\")\n",
    "    .save(\"q5/solution\")"
   ]
  },
  {
   "cell_type": "code",
   "execution_count": null,
   "id": "1a5bb59e-0a13-4905-b2b0-561576a80541",
   "metadata": {},
   "outputs": [],
   "source": []
  }
 ],
 "metadata": {
  "kernelspec": {
   "display_name": "spylon-kernel",
   "language": "scala",
   "name": "spylon-kernel"
  },
  "language_info": {
   "codemirror_mode": "text/x-scala",
   "file_extension": ".scala",
   "help_links": [
    {
     "text": "MetaKernel Magics",
     "url": "https://metakernel.readthedocs.io/en/latest/source/README.html"
    }
   ],
   "mimetype": "text/x-scala",
   "name": "scala",
   "pygments_lexer": "scala",
   "version": "0.4.1"
  }
 },
 "nbformat": 4,
 "nbformat_minor": 5
}
