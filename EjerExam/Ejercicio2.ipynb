{
 "cells": [
  {
   "cell_type": "code",
   "execution_count": 2,
   "id": "86f37da1-ceac-482b-9cb6-42cf559946d5",
   "metadata": {},
   "outputs": [
    {
     "data": {
      "text/plain": [
       "import org.apache.spark.sql._\n",
       "import org.apache.spark.sql.types._\n"
      ]
     },
     "execution_count": 2,
     "metadata": {},
     "output_type": "execute_result"
    }
   ],
   "source": [
    "import org.apache.spark.sql._\n",
    "import org.apache.spark.sql.types._"
   ]
  },
  {
   "cell_type": "code",
   "execution_count": 5,
   "id": "1995e6c1-ab06-43e1-89d3-53230ecf0d1d",
   "metadata": {},
   "outputs": [
    {
     "data": {
      "text/plain": [
       "sparkSession: org.apache.spark.sql.SparkSession = org.apache.spark.sql.SparkSession@20e620b8\n"
      ]
     },
     "execution_count": 5,
     "metadata": {},
     "output_type": "execute_result"
    }
   ],
   "source": [
    "val sparkSession = SparkSession\n",
    "    .builder()\n",
    "    .master(\"local[*]\")\n",
    "    .appName(\"curso\")\n",
    "    .config(\"spark.some.config.option\", \"some-value\")\n",
    "    .getOrCreate()"
   ]
  },
  {
   "cell_type": "code",
   "execution_count": 3,
   "id": "00d4074f-46aa-4e53-9fb1-1a49d98ce07d",
   "metadata": {},
   "outputs": [
    {
     "data": {
      "text/plain": [
       "esq: org.apache.spark.sql.types.StructType = StructType(StructField(Customer_id,IntegerType,true), StructField(Customer_fname,StringType,true), StructField(Customer_lname,StringType,true), StructField(Customer_email,StringType,true), StructField(Customer_password,StringType,true), StructField(Customer_street,StringType,true), StructField(Customer_city,StringType,true), StructField(Customer_state,StringType,true), StructField(Customer_zipcode,StringType,true))\n"
      ]
     },
     "execution_count": 3,
     "metadata": {},
     "output_type": "execute_result"
    }
   ],
   "source": [
    "val esq = StructType(Array(\n",
    "    StructField(\"Customer_id\", IntegerType, true),\n",
    "    StructField(\"Customer_fname\", StringType ,true),\n",
    "    StructField(\"Customer_lname\", StringType ,true),\n",
    "    StructField(\"Customer_email\", StringType ,true),\n",
    "    StructField(\"Customer_password\", StringType ,true),\n",
    "    StructField(\"Customer_street\", StringType ,true),\n",
    "    StructField(\"Customer_city\", StringType ,true),\n",
    "    StructField(\"Customer_state\", StringType ,true),\n",
    "    StructField(\"Customer_zipcode\", StringType ,true)\n",
    "  ))"
   ]
  },
  {
   "cell_type": "code",
   "execution_count": 6,
   "id": "3f414f66-c413-4fad-8a54-a35ae0904716",
   "metadata": {},
   "outputs": [
    {
     "data": {
      "text/plain": [
       "leer: org.apache.spark.sql.DataFrame = [Customer_id: int, Customer_fname: string ... 7 more fields]\n"
      ]
     },
     "execution_count": 6,
     "metadata": {},
     "output_type": "execute_result"
    }
   ],
   "source": [
    "val leer = sparkSession.read.option(\"header\", \"true\").schema(esq).option(\"sep\", \"\\t\").csv(\"customers-tab-delimited\")"
   ]
  },
  {
   "cell_type": "code",
   "execution_count": 7,
   "id": "29569013-a6f2-45de-a57e-c51c216c615e",
   "metadata": {},
   "outputs": [
    {
     "data": {
      "text/plain": [
       "fil: org.apache.spark.sql.Dataset[org.apache.spark.sql.Row] = [Customer_state: string, count: bigint]\n"
      ]
     },
     "execution_count": 7,
     "metadata": {},
     "output_type": "execute_result"
    }
   ],
   "source": [
    "val fil = leer.filter(\"Customer_fname like 'A%'\").groupBy(\"Customer_state\").count().filter(\"count >50\")"
   ]
  },
  {
   "cell_type": "code",
   "execution_count": 8,
   "id": "5d5ff865-697e-4e9d-8db5-74f7515c75d6",
   "metadata": {},
   "outputs": [
    {
     "name": "stdout",
     "output_type": "stream",
     "text": [
      "+--------------+-----+\n",
      "|Customer_state|count|\n",
      "+--------------+-----+\n",
      "|            CA|  120|\n",
      "|            NY|   52|\n",
      "|            PR|  231|\n",
      "+--------------+-----+\n",
      "\n"
     ]
    }
   ],
   "source": [
    "fil.show()"
   ]
  },
  {
   "cell_type": "code",
   "execution_count": 9,
   "id": "ac6cd5f8-0d00-4043-8962-025c9f671fda",
   "metadata": {},
   "outputs": [],
   "source": [
    "fil.write.format(\"parquet\").mode(\"overwrite\").option(\"compression\",\"gzip\")\n",
    "    .save(\"q2/solution\")"
   ]
  },
  {
   "cell_type": "code",
   "execution_count": null,
   "id": "eb5fd280-4640-4f89-a6e7-9b2c5ab514ea",
   "metadata": {},
   "outputs": [],
   "source": []
  }
 ],
 "metadata": {
  "kernelspec": {
   "display_name": "spylon-kernel",
   "language": "scala",
   "name": "spylon-kernel"
  },
  "language_info": {
   "codemirror_mode": "text/x-scala",
   "file_extension": ".scala",
   "help_links": [
    {
     "text": "MetaKernel Magics",
     "url": "https://metakernel.readthedocs.io/en/latest/source/README.html"
    }
   ],
   "mimetype": "text/x-scala",
   "name": "scala",
   "pygments_lexer": "scala",
   "version": "0.4.1"
  }
 },
 "nbformat": 4,
 "nbformat_minor": 5
}
