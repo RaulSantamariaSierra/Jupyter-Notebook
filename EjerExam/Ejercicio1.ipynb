{
 "cells": [
  {
   "cell_type": "code",
   "execution_count": 2,
   "id": "712b89a9-13a6-4b1f-9d28-08baf7192196",
   "metadata": {},
   "outputs": [
    {
     "data": {
      "text/plain": [
       "import org.apache.spark.sql.SparkSession\n",
       "import org.apache.spark.sql.functions.{col, date_format, from_unixtime, lit, month, to_date, year}\n"
      ]
     },
     "execution_count": 2,
     "metadata": {},
     "output_type": "execute_result"
    }
   ],
   "source": [
    "import org.apache.spark.sql.SparkSession\n",
    "import org.apache.spark.sql.functions.{col, date_format, from_unixtime, lit, month, to_date, year}"
   ]
  },
  {
   "cell_type": "code",
   "execution_count": 3,
   "id": "d66c2f8c-e4d1-4fd0-90bc-da6d181292a9",
   "metadata": {},
   "outputs": [
    {
     "data": {
      "text/plain": [
       "sparkSession: org.apache.spark.sql.SparkSession = org.apache.spark.sql.SparkSession@6f7d3f6a\n"
      ]
     },
     "execution_count": 3,
     "metadata": {},
     "output_type": "execute_result"
    }
   ],
   "source": [
    "val sparkSession = SparkSession\n",
    "    .builder()\n",
    "    .master(\"local[*]\")\n",
    "    .appName(\"curso\")\n",
    "    .config(\"spark.some.config.option\", \"some-value\")\n",
    "    .getOrCreate()"
   ]
  },
  {
   "cell_type": "code",
   "execution_count": 5,
   "id": "6600ca9f-314e-41f9-8119-86cc48ae638a",
   "metadata": {},
   "outputs": [
    {
     "data": {
      "text/plain": [
       "leer: org.apache.spark.sql.DataFrame = [order_id: int, order_date: bigint ... 2 more fields]\n"
      ]
     },
     "execution_count": 5,
     "metadata": {},
     "output_type": "execute_result"
    }
   ],
   "source": [
    "val leer = sparkSession.read.parquet(\"orders_parquet/741ca897-c70e-4633-b352-5dc3414c5680.parquet\")"
   ]
  },
  {
   "cell_type": "code",
   "execution_count": 6,
   "id": "dcc8f11a-056a-4b95-a723-f1757b315652",
   "metadata": {},
   "outputs": [
    {
     "name": "stdout",
     "output_type": "stream",
     "text": [
      "+--------+----------+\n",
      "|order_id|order_date|\n",
      "+--------+----------+\n",
      "|       3|25-07-2013|\n",
      "|       5|25-07-2013|\n",
      "|       6|25-07-2013|\n",
      "|       7|25-07-2013|\n",
      "|      15|25-07-2013|\n",
      "|      17|25-07-2013|\n",
      "|      22|25-07-2013|\n",
      "|      26|25-07-2013|\n",
      "|      28|25-07-2013|\n",
      "|      32|25-07-2013|\n",
      "|      35|25-07-2013|\n",
      "|      45|25-07-2013|\n",
      "|      56|25-07-2013|\n",
      "|      63|25-07-2013|\n",
      "|      65|25-07-2013|\n",
      "|      67|25-07-2013|\n",
      "|      71|25-07-2013|\n",
      "|      72|25-07-2013|\n",
      "|      76|25-07-2013|\n",
      "|      80|25-07-2013|\n",
      "+--------+----------+\n",
      "only showing top 20 rows\n",
      "\n"
     ]
    },
    {
     "data": {
      "text/plain": [
       "fil: Unit = ()\n"
      ]
     },
     "execution_count": 6,
     "metadata": {},
     "output_type": "execute_result"
    }
   ],
   "source": [
    "val fil = leer.select(col(\"order_id\"),\n",
    "    to_date(from_unixtime(col(\"order_date\") / 1000,\"yyyy-MM-dd HH:mm:ss\"),\"yyyy-MM-dd HH:mm:ss\").as(\"order_date\"),\n",
    "    col(\"order_status\"))\n",
    "    .filter(\"order_status = 'COMPLETE'\")\n",
    "    .select(col(\"order_id\"),\n",
    "      date_format(col(\"order_date\"),\"dd-MM-yyyy\").as(\"order_date\"))\n",
    "    .show()"
   ]
  },
  {
   "cell_type": "code",
   "execution_count": 9,
   "id": "1d5c5fe6-b832-44b2-8547-27f03179ff15",
   "metadata": {},
   "outputs": [
    {
     "data": {
      "text/plain": [
       "order: org.apache.spark.sql.DataFrame = [order_id: int, order_date: date ... 1 more field]\n"
      ]
     },
     "execution_count": 9,
     "metadata": {},
     "output_type": "execute_result"
    }
   ],
   "source": [
    "val order = leer.filter(col(\"order_status\").equalTo(\"COMPLETE\"))\n",
    "    .select(col(\"order_id\"), to_date(from_unixtime(col(\"order_date\")/1000, \"yyyy-MM-dd HH:mm:ss\"), \"yyyy-MM-dd HH:mm:ss\")\n",
    "      .as(\"order_date\"),\n",
    "      col(\"order_status\"))"
   ]
  },
  {
   "cell_type": "code",
   "execution_count": 11,
   "id": "10f32ac7-0d9e-4698-be2e-80f606b4c097",
   "metadata": {},
   "outputs": [
    {
     "name": "stdout",
     "output_type": "stream",
     "text": [
      "+--------+----------+------------+\n",
      "|order_id|order_date|order_status|\n",
      "+--------+----------+------------+\n",
      "|       3|2013-07-25|    COMPLETE|\n",
      "|       5|2013-07-25|    COMPLETE|\n",
      "|       6|2013-07-25|    COMPLETE|\n",
      "|       7|2013-07-25|    COMPLETE|\n",
      "|      15|2013-07-25|    COMPLETE|\n",
      "|      17|2013-07-25|    COMPLETE|\n",
      "|      22|2013-07-25|    COMPLETE|\n",
      "|      26|2013-07-25|    COMPLETE|\n",
      "|      28|2013-07-25|    COMPLETE|\n",
      "|      32|2013-07-25|    COMPLETE|\n",
      "|      35|2013-07-25|    COMPLETE|\n",
      "|      45|2013-07-25|    COMPLETE|\n",
      "|      56|2013-07-25|    COMPLETE|\n",
      "|      63|2013-07-25|    COMPLETE|\n",
      "|      65|2013-07-25|    COMPLETE|\n",
      "|      67|2013-07-25|    COMPLETE|\n",
      "|      71|2013-07-25|    COMPLETE|\n",
      "|      72|2013-07-25|    COMPLETE|\n",
      "|      76|2013-07-25|    COMPLETE|\n",
      "|      80|2013-07-25|    COMPLETE|\n",
      "+--------+----------+------------+\n",
      "only showing top 20 rows\n",
      "\n"
     ]
    }
   ],
   "source": [
    "order.show()"
   ]
  },
  {
   "cell_type": "code",
   "execution_count": 12,
   "id": "412d8b60-013b-4fe4-9db4-1c39b45cad94",
   "metadata": {},
   "outputs": [
    {
     "data": {
      "text/plain": [
       "con: org.apache.spark.sql.DataFrame = [order_id: int, order_date: string ... 1 more field]\n"
      ]
     },
     "execution_count": 12,
     "metadata": {},
     "output_type": "execute_result"
    }
   ],
   "source": [
    "val con = order.filter(year(col(\"order_date\")).equalTo(2014) and\n",
    "    (month(col(\"order_date\")).equalTo(1) or month(col(\"order_date\")).equalTo(7)))\n",
    "    .select(col(\"order_id\"), date_format(col(\"order_date\"), \"dd-MM-yyyy\")\n",
    "      .as(\"order_date\"), col(\"order_status\"))"
   ]
  },
  {
   "cell_type": "code",
   "execution_count": 13,
   "id": "340876b4-1054-42b2-8c83-70e01e95b601",
   "metadata": {},
   "outputs": [
    {
     "name": "stdout",
     "output_type": "stream",
     "text": [
      "+--------+----------+------------+\n",
      "|order_id|order_date|order_status|\n",
      "+--------+----------+------------+\n",
      "|   25882|01-01-2014|    COMPLETE|\n",
      "|   25888|01-01-2014|    COMPLETE|\n",
      "|   25889|01-01-2014|    COMPLETE|\n",
      "|   25895|01-01-2014|    COMPLETE|\n",
      "|   25897|01-01-2014|    COMPLETE|\n",
      "|   25898|01-01-2014|    COMPLETE|\n",
      "|   25901|01-01-2014|    COMPLETE|\n",
      "|   25902|01-01-2014|    COMPLETE|\n",
      "|   25907|01-01-2014|    COMPLETE|\n",
      "|   25913|01-01-2014|    COMPLETE|\n",
      "|   25914|01-01-2014|    COMPLETE|\n",
      "|   25915|01-01-2014|    COMPLETE|\n",
      "|   25916|01-01-2014|    COMPLETE|\n",
      "|   25918|01-01-2014|    COMPLETE|\n",
      "|   25919|01-01-2014|    COMPLETE|\n",
      "|   25920|01-01-2014|    COMPLETE|\n",
      "|   25921|01-01-2014|    COMPLETE|\n",
      "|   25922|01-01-2014|    COMPLETE|\n",
      "|   25924|01-01-2014|    COMPLETE|\n",
      "|   25926|01-01-2014|    COMPLETE|\n",
      "+--------+----------+------------+\n",
      "only showing top 20 rows\n",
      "\n"
     ]
    }
   ],
   "source": [
    "con.show()"
   ]
  },
  {
   "cell_type": "code",
   "execution_count": 14,
   "id": "82f11d01-0aa8-43d3-8c88-165f4e1188c5",
   "metadata": {},
   "outputs": [],
   "source": [
    "con.write.format(\"json\").mode(\"Overwrite\")\n",
    "    .save(\"q1/solution\")"
   ]
  },
  {
   "cell_type": "code",
   "execution_count": null,
   "id": "39ac8e2f-c848-4c62-8c23-d64eb1952556",
   "metadata": {},
   "outputs": [],
   "source": []
  }
 ],
 "metadata": {
  "kernelspec": {
   "display_name": "spylon-kernel",
   "language": "scala",
   "name": "spylon-kernel"
  },
  "language_info": {
   "codemirror_mode": "text/x-scala",
   "file_extension": ".scala",
   "help_links": [
    {
     "text": "MetaKernel Magics",
     "url": "https://metakernel.readthedocs.io/en/latest/source/README.html"
    }
   ],
   "mimetype": "text/x-scala",
   "name": "scala",
   "pygments_lexer": "scala",
   "version": "0.4.1"
  }
 },
 "nbformat": 4,
 "nbformat_minor": 5
}
