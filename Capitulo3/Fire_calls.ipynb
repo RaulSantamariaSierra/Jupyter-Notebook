{
 "cells": [
  {
   "cell_type": "code",
   "execution_count": 13,
   "id": "28a3f4a9-8bef-4fd3-8cb4-9abe985d7acf",
   "metadata": {},
   "outputs": [
    {
     "data": {
      "text/plain": [
       "import org.apache.spark.sql.SparkSession\n"
      ]
     },
     "execution_count": 13,
     "metadata": {},
     "output_type": "execute_result"
    }
   ],
   "source": [
    "import org.apache.spark.sql.SparkSession"
   ]
  },
  {
   "cell_type": "code",
   "execution_count": 14,
   "id": "a76ff313-fdb0-4fb6-a5fc-20c5451ac96d",
   "metadata": {},
   "outputs": [
    {
     "data": {
      "text/plain": [
       "import org.apache.spark.sql.functions.{col, countDistinct, to_timestamp}\n"
      ]
     },
     "execution_count": 14,
     "metadata": {},
     "output_type": "execute_result"
    }
   ],
   "source": [
    "import org.apache.spark.sql.functions.{col, countDistinct, to_timestamp}"
   ]
  },
  {
   "cell_type": "code",
   "execution_count": 15,
   "id": "b46820d5-0650-42c2-97a4-2e1d9af17979",
   "metadata": {},
   "outputs": [
    {
     "data": {
      "text/plain": [
       "import org.apache.spark.sql.types.{BooleanType, FloatType, IntegerType, StringType, StructField, StructType}\n"
      ]
     },
     "execution_count": 15,
     "metadata": {},
     "output_type": "execute_result"
    }
   ],
   "source": [
    "import org.apache.spark.sql.types.{BooleanType, FloatType, IntegerType, StringType, StructField, StructType}"
   ]
  },
  {
   "cell_type": "code",
   "execution_count": 16,
   "id": "31049f14-430b-4e0a-97c2-99d9f062fd0c",
   "metadata": {},
   "outputs": [
    {
     "data": {
      "text/plain": [
       "sparkSession: org.apache.spark.sql.SparkSession = org.apache.spark.sql.SparkSession@6ce92ab4\n"
      ]
     },
     "execution_count": 16,
     "metadata": {},
     "output_type": "execute_result"
    }
   ],
   "source": [
    "val sparkSession = SparkSession\n",
    "    .builder()\n",
    "    .master(\"local[*]\")\n",
    "    .appName(\"curso\")\n",
    "    .config(\"spark.some.config.option\", \"some-value\")\n",
    "    .getOrCreate()"
   ]
  },
  {
   "cell_type": "code",
   "execution_count": 19,
   "id": "d30b25bb-d39d-41da-a7e7-6121fa7dabea",
   "metadata": {},
   "outputs": [
    {
     "data": {
      "text/plain": [
       "sampleDF: org.apache.spark.sql.DataFrame = [CallNumber: string, UnitID: string ... 26 more fields]\n"
      ]
     },
     "execution_count": 19,
     "metadata": {},
     "output_type": "execute_result"
    }
   ],
   "source": [
    "val sampleDF = sparkSession\n",
    "    .read\n",
    "    .option(\"samplingRatio\", 0.001)\n",
    "    .option(\"header\", true)\n",
    "    .csv(\"sf-fire-calls.csv\")"
   ]
  },
  {
   "cell_type": "code",
   "execution_count": 20,
   "id": "4273a467-9151-467a-b84e-ca7424ce38b7",
   "metadata": {},
   "outputs": [
    {
     "data": {
      "text/plain": [
       "fireSchema: org.apache.spark.sql.types.StructType = StructType(StructField(CallNumber,IntegerType,true), StructField(UnitID,StringType,true), StructField(IncidentNumber,IntegerType,true), StructField(CallType,StringType,true), StructField(CallDate,StringType,true), StructField(WatchDate,StringType,true), StructField(CallFinalDisposition,StringType,true), StructField(AvailableDtTm,StringType,true), StructField(Address,StringType,true), StructField(City,StringType,true), StructField(Zipcode,IntegerType,true), StructField(Battalion,StringType,true), StructField(StationArea,StringType,true), StructField(Box,StringType,true), StructField(OriginalPriority,StringType,true), StructField(Priority,StringType,true), StructField(FinalPriority,IntegerType,true), StructField(ALSUnit,BooleanType,true)...\n"
      ]
     },
     "execution_count": 20,
     "metadata": {},
     "output_type": "execute_result"
    }
   ],
   "source": [
    "val fireSchema = StructType(Array(\n",
    "    StructField(\"CallNumber\", IntegerType, true),\n",
    "    StructField(\"UnitID\", StringType, true),\n",
    "    StructField(\"IncidentNumber\", IntegerType, true),\n",
    "    StructField(\"CallType\", StringType, true),\n",
    "    StructField(\"CallDate\", StringType, true),\n",
    "    StructField(\"WatchDate\", StringType, true),\n",
    "    StructField(\"CallFinalDisposition\", StringType, true),\n",
    "    StructField(\"AvailableDtTm\", StringType, true),\n",
    "    StructField(\"Address\", StringType, true),\n",
    "    StructField(\"City\", StringType, true),\n",
    "    StructField(\"Zipcode\", IntegerType, true),\n",
    "    StructField(\"Battalion\", StringType, true),\n",
    "    StructField(\"StationArea\", StringType, true),\n",
    "    StructField(\"Box\", StringType, true),\n",
    "    StructField(\"OriginalPriority\", StringType, true),\n",
    "    StructField(\"Priority\", StringType, true),\n",
    "    StructField(\"FinalPriority\", IntegerType, true),\n",
    "    StructField(\"ALSUnit\", BooleanType, true),\n",
    "    StructField(\"CallTypeGroup\", StringType, true),\n",
    "    StructField(\"NumAlarms\", IntegerType, true),\n",
    "    StructField(\"UnitType\", StringType, true),\n",
    "    StructField(\"UnitSequenceInCallDispatch\", IntegerType, true),\n",
    "    StructField(\"FirePreventionDistrict\", StringType, true),\n",
    "    StructField(\"SupervisorDistrict\", StringType, true),\n",
    "    StructField(\"Neighborhood\", StringType, true),\n",
    "    StructField(\"Location\", StringType, true),\n",
    "    StructField(\"RowID\", StringType, true),\n",
    "    StructField(\"Delay\", FloatType, true)\n",
    "  ))"
   ]
  },
  {
   "cell_type": "code",
   "execution_count": 22,
   "id": "b0b58344-6904-4972-8be0-4b0f78f610de",
   "metadata": {},
   "outputs": [
    {
     "data": {
      "text/plain": [
       "sfFireFile: String = sf-fire-calls.csv\n",
       "fireDF: org.apache.spark.sql.DataFrame = [CallNumber: int, UnitID: string ... 26 more fields]\n"
      ]
     },
     "execution_count": 22,
     "metadata": {},
     "output_type": "execute_result"
    }
   ],
   "source": [
    "val sfFireFile=\"sf-fire-calls.csv\"\n",
    "  val fireDF = sparkSession.read.schema(fireSchema)\n",
    "    .option(\"header\", \"true\")\n",
    "    .csv(sfFireFile)"
   ]
  },
  {
   "cell_type": "code",
   "execution_count": 23,
   "id": "127971ee-490c-4665-8405-21e100a67851",
   "metadata": {},
   "outputs": [
    {
     "data": {
      "text/plain": [
       "fewFireDF: org.apache.spark.sql.Dataset[org.apache.spark.sql.Row] = [IncidentNumber: int, AvailableDtTm: string ... 1 more field]\n"
      ]
     },
     "execution_count": 23,
     "metadata": {},
     "output_type": "execute_result"
    }
   ],
   "source": [
    "val fewFireDF = fireDF\n",
    "    .select(\"IncidentNumber\", \"AvailableDtTm\", \"CallType\")\n",
    "    .where(col(\"CallType\").notEqual(\"Medical Incident\"))"
   ]
  },
  {
   "cell_type": "code",
   "execution_count": 24,
   "id": "c745f191-0c20-4f07-bb17-091cf6e399e8",
   "metadata": {},
   "outputs": [
    {
     "name": "stdout",
     "output_type": "stream",
     "text": [
      "+--------------+----------------------+--------------+\n",
      "|IncidentNumber|AvailableDtTm         |CallType      |\n",
      "+--------------+----------------------+--------------+\n",
      "|2003235       |01/11/2002 01:51:44 AM|Structure Fire|\n",
      "|2003250       |01/11/2002 04:16:46 AM|Vehicle Fire  |\n",
      "|2003259       |01/11/2002 06:01:58 AM|Alarms        |\n",
      "|2003279       |01/11/2002 08:03:26 AM|Structure Fire|\n",
      "|2003301       |01/11/2002 09:46:44 AM|Alarms        |\n",
      "+--------------+----------------------+--------------+\n",
      "only showing top 5 rows\n",
      "\n"
     ]
    }
   ],
   "source": [
    "fewFireDF.show(5, false)"
   ]
  },
  {
   "cell_type": "code",
   "execution_count": 25,
   "id": "44414cae-0254-45d5-83f3-5a519632b8f0",
   "metadata": {},
   "outputs": [
    {
     "name": "stdout",
     "output_type": "stream",
     "text": [
      "+-----------------+\n",
      "|DistinctCallTypes|\n",
      "+-----------------+\n",
      "|               30|\n",
      "+-----------------+\n",
      "\n"
     ]
    }
   ],
   "source": [
    "//Devuelve el número de tipos distintos de llamadas mediante countDistinct()\n",
    "\n",
    "  fireDF\n",
    "    .select(\"CallType\")\n",
    "    .where(col(\"CallType\").isNotNull)\n",
    "    .agg(countDistinct(\"CallType\") as \"DistinctCallTypes\")\n",
    "    .show()"
   ]
  },
  {
   "cell_type": "code",
   "execution_count": 26,
   "id": "72b7856e-8d1c-49a5-a0d8-883ad4ce6aa2",
   "metadata": {},
   "outputs": [
    {
     "name": "stdout",
     "output_type": "stream",
     "text": [
      "+-----------------------------+\n",
      "|CallType                     |\n",
      "+-----------------------------+\n",
      "|Elevator / Escalator Rescue  |\n",
      "|Marine Fire                  |\n",
      "|Aircraft Emergency           |\n",
      "|Administrative               |\n",
      "|Alarms                       |\n",
      "|Odor (Strange / Unknown)     |\n",
      "|Citizen Assist / Service Call|\n",
      "|HazMat                       |\n",
      "|Watercraft in Distress       |\n",
      "|Explosion                    |\n",
      "+-----------------------------+\n",
      "only showing top 10 rows\n",
      "\n"
     ]
    }
   ],
   "source": [
    "//Podemos enumerar los distintos tipos de llamadas en el conjunto de datos\n",
    "  fireDF\n",
    "    .select(\"CallType\")\n",
    "    .where(col(\"CallType\").isNotNull)\n",
    "    .distinct()\n",
    "    .show(10, false)"
   ]
  },
  {
   "cell_type": "code",
   "execution_count": 27,
   "id": "d3b737a9-4239-4a12-8e5b-33240b328beb",
   "metadata": {},
   "outputs": [
    {
     "data": {
      "text/plain": [
       "fireTsDF: org.apache.spark.sql.DataFrame = [CallNumber: int, UnitID: string ... 26 more fields]\n"
      ]
     },
     "execution_count": 27,
     "metadata": {},
     "output_type": "execute_result"
    }
   ],
   "source": [
    "val fireTsDF = fireDF\n",
    "    .withColumn(\"IncidentDate\", to_timestamp(col(\"CallDate\"), \"MM/dd/yyyy\"))\n",
    "    .drop(\"CallDate\")\n",
    "    .withColumn(\"OnWatchDate\", to_timestamp(col(\"WatchDate\"), \"MM/dd/yyyy\"))\n",
    "    .drop(\"WatchDate\")\n",
    "    .withColumn(\"AvailableDtTS\", to_timestamp(col(\"AvailableDtTm\"),\n",
    "      \"MM/dd/yyyy hh:mm:ss a\"))\n",
    "    .drop(\"AvailableDtTm\")"
   ]
  },
  {
   "cell_type": "code",
   "execution_count": 28,
   "id": "6564c590-1ab6-4336-851f-b6f131c82035",
   "metadata": {},
   "outputs": [
    {
     "name": "stdout",
     "output_type": "stream",
     "text": [
      "+-------------------+-------------------+-------------------+\n",
      "|IncidentDate       |OnWatchDate        |AvailableDtTS      |\n",
      "+-------------------+-------------------+-------------------+\n",
      "|2002-01-11 00:00:00|2002-01-10 00:00:00|2002-01-11 01:51:44|\n",
      "|2002-01-11 00:00:00|2002-01-10 00:00:00|2002-01-11 03:01:18|\n",
      "|2002-01-11 00:00:00|2002-01-10 00:00:00|2002-01-11 02:39:50|\n",
      "|2002-01-11 00:00:00|2002-01-10 00:00:00|2002-01-11 04:16:46|\n",
      "|2002-01-11 00:00:00|2002-01-10 00:00:00|2002-01-11 06:01:58|\n",
      "+-------------------+-------------------+-------------------+\n",
      "only showing top 5 rows\n",
      "\n"
     ]
    }
   ],
   "source": [
    "fireTsDF\n",
    "    .select(\"IncidentDate\", \"OnWatchDate\", \"AvailableDtTS\")\n",
    "    .show(5, false)"
   ]
  },
  {
   "cell_type": "code",
   "execution_count": 32,
   "id": "311f818f-787e-4c74-b048-ef14e260eb2d",
   "metadata": {},
   "outputs": [],
   "source": [
    "//Guardar en distintos formatos\n",
    "  fireDF.write.format(\"csv\")\n",
    "    .mode(\"overwrite\")\n",
    "    .save(\"resources/salida/fire_calls_csv\")"
   ]
  },
  {
   "cell_type": "code",
   "execution_count": 35,
   "id": "096ac0f4-b356-4851-b2bc-34294ae0b50e",
   "metadata": {},
   "outputs": [],
   "source": [
    "fireDF.write.format(\"json\")\n",
    "    .mode(\"overwrite\")\n",
    "    .save(\"resources/salida/fire_calls_json\")"
   ]
  },
  {
   "cell_type": "code",
   "execution_count": null,
   "id": "9caddd9c-18fa-4aee-a7e0-f8b801f0b51a",
   "metadata": {},
   "outputs": [],
   "source": [
    "fireDF.write.format(\"avro\")\n",
    "    .mode(\"overwrite\")\n",
    "    .save(\"resources/salida/fire_calls_avro\")"
   ]
  }
 ],
 "metadata": {
  "kernelspec": {
   "display_name": "spylon-kernel",
   "language": "scala",
   "name": "spylon-kernel"
  },
  "language_info": {
   "codemirror_mode": "text/x-scala",
   "file_extension": ".scala",
   "help_links": [
    {
     "text": "MetaKernel Magics",
     "url": "https://metakernel.readthedocs.io/en/latest/source/README.html"
    }
   ],
   "mimetype": "text/x-scala",
   "name": "scala",
   "pygments_lexer": "scala",
   "version": "0.4.1"
  }
 },
 "nbformat": 4,
 "nbformat_minor": 5
}
