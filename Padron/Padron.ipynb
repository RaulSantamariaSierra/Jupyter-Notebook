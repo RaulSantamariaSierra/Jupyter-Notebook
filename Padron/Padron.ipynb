{
 "cells": [
  {
   "cell_type": "code",
   "execution_count": 2,
   "id": "7b1eb83d-87e1-48c3-bab5-13dae6258d1a",
   "metadata": {},
   "outputs": [
    {
     "data": {
      "text/plain": [
       "import org.apache.spark.sql.{SparkSession, functions}\n",
       "import org.apache.spark.sql.functions.{col, lit, sum}\n",
       "import org.apache.spark\n"
      ]
     },
     "execution_count": 2,
     "metadata": {},
     "output_type": "execute_result"
    }
   ],
   "source": [
    "import org.apache.spark.sql.{SparkSession, functions}\n",
    "import org.apache.spark.sql.functions.{col, lit, sum}\n",
    "import org.apache.spark"
   ]
  },
  {
   "cell_type": "code",
   "execution_count": 3,
   "id": "a705394a-8e28-4012-b72b-2e3d602f5696",
   "metadata": {},
   "outputs": [
    {
     "data": {
      "text/plain": [
       "sparkSession: org.apache.spark.sql.SparkSession = org.apache.spark.sql.SparkSession@c15cb5a\n"
      ]
     },
     "execution_count": 3,
     "metadata": {},
     "output_type": "execute_result"
    }
   ],
   "source": [
    "val sparkSession = SparkSession\n",
    "    .builder()\n",
    "    .master(\"local[*]\")\n",
    "    .appName(\"curso\")\n",
    "    .config(\"spark.some.config.option\", \"some-value\")\n",
    "    .getOrCreate()"
   ]
  },
  {
   "cell_type": "code",
   "execution_count": 4,
   "id": "c1e49744-7640-41a6-8b71-2c76ef8d89a3",
   "metadata": {},
   "outputs": [
    {
     "data": {
      "text/plain": [
       "leer: org.apache.spark.sql.DataFrame = [COD_DISTRITO: int, DESC_DISTRITO: string ... 10 more fields]\n"
      ]
     },
     "execution_count": 4,
     "metadata": {},
     "output_type": "execute_result"
    }
   ],
   "source": [
    "var leer = sparkSession.read\n",
    "    .option(\"header\", \"true\")\n",
    "    .option(\"sep\", \";\")\n",
    "    .option(\"inferSchema\", \"true\")\n",
    "    .csv(\"Rango_Edades_Seccion_202203.csv\")"
   ]
  },
  {
   "cell_type": "code",
   "execution_count": 5,
   "id": "d1c41bea-0a07-4540-b8b8-fab6f6b994e9",
   "metadata": {},
   "outputs": [
    {
     "name": "stdout",
     "output_type": "stream",
     "text": [
      "+------------+--------------------+---------------+--------------------+----------+----------------+-----------+------------+----------------+----------------+------------------+------------------+\n",
      "|COD_DISTRITO|DESC_DISTRITO       |COD_DIST_BARRIO|DESC_BARRIO         |COD_BARRIO|COD_DIST_SECCION|COD_SECCION|COD_EDAD_INT|EspanolesHombres|EspanolesMujeres|ExtranjerosHombres|ExtranjerosMujeres|\n",
      "+------------+--------------------+---------------+--------------------+----------+----------------+-----------+------------+----------------+----------------+------------------+------------------+\n",
      "|1           |CENTRO              |101            |PALACIO             |1         |1001            |1          |0           |3               |1               |1                 |null              |\n",
      "|1           |CENTRO              |101            |PALACIO             |1         |1001            |1          |1           |5               |2               |1                 |null              |\n",
      "|1           |CENTRO              |101            |PALACIO             |1         |1001            |1          |2           |2               |2               |1                 |3                 |\n",
      "|1           |CENTRO              |101            |PALACIO             |1         |1001            |1          |3           |4               |2               |null              |1                 |\n",
      "|1           |CENTRO              |101            |PALACIO             |1         |1001            |1          |4           |2               |null            |1                 |2                 |\n",
      "|1           |CENTRO              |101            |PALACIO             |1         |1001            |1          |5           |1               |1               |null              |1                 |\n",
      "|1           |CENTRO              |101            |PALACIO             |1         |1001            |1          |6           |2               |2               |2                 |1                 |\n",
      "|1           |CENTRO              |101            |PALACIO             |1         |1001            |1          |7           |1               |2               |null              |null              |\n",
      "|1           |CENTRO              |101            |PALACIO             |1         |1001            |1          |8           |3               |2               |1                 |1                 |\n",
      "|1           |CENTRO              |101            |PALACIO             |1         |1001            |1          |9           |2               |null            |null              |2                 |\n",
      "|1           |CENTRO              |101            |PALACIO             |1         |1001            |1          |10          |1               |2               |1                 |null              |\n",
      "|1           |CENTRO              |101            |PALACIO             |1         |1001            |1          |11          |5               |1               |1                 |null              |\n",
      "|1           |CENTRO              |101            |PALACIO             |1         |1001            |1          |12          |3               |4               |null              |null              |\n",
      "|1           |CENTRO              |101            |PALACIO             |1         |1001            |1          |13          |4               |4               |null              |null              |\n",
      "|1           |CENTRO              |101            |PALACIO             |1         |1001            |1          |14          |1               |1               |null              |2                 |\n",
      "|1           |CENTRO              |101            |PALACIO             |1         |1001            |1          |15          |3               |2               |1                 |null              |\n",
      "|1           |CENTRO              |101            |PALACIO             |1         |1001            |1          |16          |4               |5               |null              |null              |\n",
      "|1           |CENTRO              |101            |PALACIO             |1         |1001            |1          |17          |2               |1               |null              |1                 |\n",
      "|1           |CENTRO              |101            |PALACIO             |1         |1001            |1          |18          |3               |7               |2                 |null              |\n",
      "|1           |CENTRO              |101            |PALACIO             |1         |1001            |1          |19          |3               |2               |1                 |2                 |\n",
      "+------------+--------------------+---------------+--------------------+----------+----------------+-----------+------------+----------------+----------------+------------------+------------------+\n",
      "only showing top 20 rows\n",
      "\n"
     ]
    }
   ],
   "source": [
    "leer.show(false)"
   ]
  },
  {
   "cell_type": "code",
   "execution_count": 6,
   "id": "e67f3868-7315-4133-8852-38f14d6c6466",
   "metadata": {},
   "outputs": [
    {
     "name": "stdout",
     "output_type": "stream",
     "text": [
      "+--------------------+\n",
      "|         DESC_BARRIO|\n",
      "+--------------------+\n",
      "|EMBAJADORES         |\n",
      "|LEGAZPI             |\n",
      "|DELICIAS            |\n",
      "|CONCEPCION          |\n",
      "|VENTAS              |\n",
      "|IMPERIAL            |\n",
      "|TRAFALGAR           |\n",
      "|ESTRELLA            |\n",
      "|ADELFAS             |\n",
      "|PUEBLO NUEVO        |\n",
      "|LOS CARMENES        |\n",
      "|OPA�EL              |\n",
      "|LOS JERONIMOS       |\n",
      "|QUINTANA            |\n",
      "|VALLEHERMOSO        |\n",
      "|CANILLAS            |\n",
      "|PALACIO             |\n",
      "|ALMENDRALES         |\n",
      "|CASTELLANA          |\n",
      "|CORTES              |\n",
      "+--------------------+\n",
      "only showing top 20 rows\n",
      "\n"
     ]
    },
    {
     "data": {
      "text/plain": [
       "bar: Unit = ()\n"
      ]
     },
     "execution_count": 6,
     "metadata": {},
     "output_type": "execute_result"
    }
   ],
   "source": [
    "val bar = leer.select(col(\"DESC_BARRIO\")).distinct().show()"
   ]
  },
  {
   "cell_type": "code",
   "execution_count": 10,
   "id": "7e100d90-71ee-448a-98d5-7443cc28229d",
   "metadata": {},
   "outputs": [],
   "source": [
    "leer.createTempView(\"padron\")"
   ]
  },
  {
   "cell_type": "code",
   "execution_count": 11,
   "id": "232fbed9-2e17-4455-bbbe-86fa0cadbf54",
   "metadata": {},
   "outputs": [
    {
     "name": "stdout",
     "output_type": "stream",
     "text": [
      "+---------------------------+\n",
      "|count(DISTINCT DESC_BARRIO)|\n",
      "+---------------------------+\n",
      "|                        132|\n",
      "+---------------------------+\n",
      "\n"
     ]
    }
   ],
   "source": [
    "sparkSession.sql(\"SELECT COUNT(DISTINCT DESC_BARRIO) FROM padron\").show()"
   ]
  },
  {
   "cell_type": "code",
   "execution_count": 12,
   "id": "1c5545db-d902-48c7-b266-40afd58f1a6c",
   "metadata": {},
   "outputs": [
    {
     "data": {
      "text/plain": [
       "lon: org.apache.spark.sql.DataFrame = [COD_DISTRITO: int, DESC_DISTRITO: string ... 11 more fields]\n"
      ]
     },
     "execution_count": 12,
     "metadata": {},
     "output_type": "execute_result"
    }
   ],
   "source": [
    "val lon = leer.withColumn(\"Longitud\",functions.length(col(\"DESC_DISTRITO\")))"
   ]
  },
  {
   "cell_type": "code",
   "execution_count": 13,
   "id": "bf62f414-9b2c-40d2-a004-3afced21ec6e",
   "metadata": {},
   "outputs": [
    {
     "name": "stdout",
     "output_type": "stream",
     "text": [
      "+------------+--------------------+---------------+--------------------+----------+----------------+-----------+------------+----------------+----------------+------------------+------------------+--------+\n",
      "|COD_DISTRITO|       DESC_DISTRITO|COD_DIST_BARRIO|         DESC_BARRIO|COD_BARRIO|COD_DIST_SECCION|COD_SECCION|COD_EDAD_INT|EspanolesHombres|EspanolesMujeres|ExtranjerosHombres|ExtranjerosMujeres|Longitud|\n",
      "+------------+--------------------+---------------+--------------------+----------+----------------+-----------+------------+----------------+----------------+------------------+------------------+--------+\n",
      "|           1|CENTRO              |            101|PALACIO             |         1|            1001|          1|           0|               3|               1|                 1|              null|      20|\n",
      "|           1|CENTRO              |            101|PALACIO             |         1|            1001|          1|           1|               5|               2|                 1|              null|      20|\n",
      "|           1|CENTRO              |            101|PALACIO             |         1|            1001|          1|           2|               2|               2|                 1|                 3|      20|\n",
      "|           1|CENTRO              |            101|PALACIO             |         1|            1001|          1|           3|               4|               2|              null|                 1|      20|\n",
      "|           1|CENTRO              |            101|PALACIO             |         1|            1001|          1|           4|               2|            null|                 1|                 2|      20|\n",
      "|           1|CENTRO              |            101|PALACIO             |         1|            1001|          1|           5|               1|               1|              null|                 1|      20|\n",
      "|           1|CENTRO              |            101|PALACIO             |         1|            1001|          1|           6|               2|               2|                 2|                 1|      20|\n",
      "|           1|CENTRO              |            101|PALACIO             |         1|            1001|          1|           7|               1|               2|              null|              null|      20|\n",
      "|           1|CENTRO              |            101|PALACIO             |         1|            1001|          1|           8|               3|               2|                 1|                 1|      20|\n",
      "|           1|CENTRO              |            101|PALACIO             |         1|            1001|          1|           9|               2|            null|              null|                 2|      20|\n",
      "|           1|CENTRO              |            101|PALACIO             |         1|            1001|          1|          10|               1|               2|                 1|              null|      20|\n",
      "|           1|CENTRO              |            101|PALACIO             |         1|            1001|          1|          11|               5|               1|                 1|              null|      20|\n",
      "|           1|CENTRO              |            101|PALACIO             |         1|            1001|          1|          12|               3|               4|              null|              null|      20|\n",
      "|           1|CENTRO              |            101|PALACIO             |         1|            1001|          1|          13|               4|               4|              null|              null|      20|\n",
      "|           1|CENTRO              |            101|PALACIO             |         1|            1001|          1|          14|               1|               1|              null|                 2|      20|\n",
      "|           1|CENTRO              |            101|PALACIO             |         1|            1001|          1|          15|               3|               2|                 1|              null|      20|\n",
      "|           1|CENTRO              |            101|PALACIO             |         1|            1001|          1|          16|               4|               5|              null|              null|      20|\n",
      "|           1|CENTRO              |            101|PALACIO             |         1|            1001|          1|          17|               2|               1|              null|                 1|      20|\n",
      "|           1|CENTRO              |            101|PALACIO             |         1|            1001|          1|          18|               3|               7|                 2|              null|      20|\n",
      "|           1|CENTRO              |            101|PALACIO             |         1|            1001|          1|          19|               3|               2|                 1|                 2|      20|\n",
      "+------------+--------------------+---------------+--------------------+----------+----------------+-----------+------------+----------------+----------------+------------------+------------------+--------+\n",
      "only showing top 20 rows\n",
      "\n"
     ]
    }
   ],
   "source": [
    "lon.show()"
   ]
  },
  {
   "cell_type": "code",
   "execution_count": 14,
   "id": "e75eec59-de4f-497b-a9eb-db22331047fe",
   "metadata": {},
   "outputs": [
    {
     "data": {
      "text/plain": [
       "col: org.apache.spark.sql.DataFrame = [COD_DISTRITO: int, DESC_DISTRITO: string ... 12 more fields]\n"
      ]
     },
     "execution_count": 14,
     "metadata": {},
     "output_type": "execute_result"
    }
   ],
   "source": [
    "val col = lon.withColumn(\"Val5\", lit(5))"
   ]
  },
  {
   "cell_type": "code",
   "execution_count": 15,
   "id": "573d5b0e-57a4-41ab-ae95-c7967e23c5a6",
   "metadata": {},
   "outputs": [
    {
     "name": "stdout",
     "output_type": "stream",
     "text": [
      "+------------+--------------------+---------------+--------------------+----------+----------------+-----------+------------+----------------+----------------+------------------+------------------+--------+----+\n",
      "|COD_DISTRITO|       DESC_DISTRITO|COD_DIST_BARRIO|         DESC_BARRIO|COD_BARRIO|COD_DIST_SECCION|COD_SECCION|COD_EDAD_INT|EspanolesHombres|EspanolesMujeres|ExtranjerosHombres|ExtranjerosMujeres|Longitud|Val5|\n",
      "+------------+--------------------+---------------+--------------------+----------+----------------+-----------+------------+----------------+----------------+------------------+------------------+--------+----+\n",
      "|           1|CENTRO              |            101|PALACIO             |         1|            1001|          1|           0|               3|               1|                 1|              null|      20|   5|\n",
      "|           1|CENTRO              |            101|PALACIO             |         1|            1001|          1|           1|               5|               2|                 1|              null|      20|   5|\n",
      "|           1|CENTRO              |            101|PALACIO             |         1|            1001|          1|           2|               2|               2|                 1|                 3|      20|   5|\n",
      "|           1|CENTRO              |            101|PALACIO             |         1|            1001|          1|           3|               4|               2|              null|                 1|      20|   5|\n",
      "|           1|CENTRO              |            101|PALACIO             |         1|            1001|          1|           4|               2|            null|                 1|                 2|      20|   5|\n",
      "|           1|CENTRO              |            101|PALACIO             |         1|            1001|          1|           5|               1|               1|              null|                 1|      20|   5|\n",
      "|           1|CENTRO              |            101|PALACIO             |         1|            1001|          1|           6|               2|               2|                 2|                 1|      20|   5|\n",
      "|           1|CENTRO              |            101|PALACIO             |         1|            1001|          1|           7|               1|               2|              null|              null|      20|   5|\n",
      "|           1|CENTRO              |            101|PALACIO             |         1|            1001|          1|           8|               3|               2|                 1|                 1|      20|   5|\n",
      "|           1|CENTRO              |            101|PALACIO             |         1|            1001|          1|           9|               2|            null|              null|                 2|      20|   5|\n",
      "|           1|CENTRO              |            101|PALACIO             |         1|            1001|          1|          10|               1|               2|                 1|              null|      20|   5|\n",
      "|           1|CENTRO              |            101|PALACIO             |         1|            1001|          1|          11|               5|               1|                 1|              null|      20|   5|\n",
      "|           1|CENTRO              |            101|PALACIO             |         1|            1001|          1|          12|               3|               4|              null|              null|      20|   5|\n",
      "|           1|CENTRO              |            101|PALACIO             |         1|            1001|          1|          13|               4|               4|              null|              null|      20|   5|\n",
      "|           1|CENTRO              |            101|PALACIO             |         1|            1001|          1|          14|               1|               1|              null|                 2|      20|   5|\n",
      "|           1|CENTRO              |            101|PALACIO             |         1|            1001|          1|          15|               3|               2|                 1|              null|      20|   5|\n",
      "|           1|CENTRO              |            101|PALACIO             |         1|            1001|          1|          16|               4|               5|              null|              null|      20|   5|\n",
      "|           1|CENTRO              |            101|PALACIO             |         1|            1001|          1|          17|               2|               1|              null|                 1|      20|   5|\n",
      "|           1|CENTRO              |            101|PALACIO             |         1|            1001|          1|          18|               3|               7|                 2|              null|      20|   5|\n",
      "|           1|CENTRO              |            101|PALACIO             |         1|            1001|          1|          19|               3|               2|                 1|                 2|      20|   5|\n",
      "+------------+--------------------+---------------+--------------------+----------+----------------+-----------+------------+----------------+----------------+------------------+------------------+--------+----+\n",
      "only showing top 20 rows\n",
      "\n"
     ]
    }
   ],
   "source": [
    "col.show()"
   ]
  },
  {
   "cell_type": "code",
   "execution_count": 16,
   "id": "ca5e4659-aeea-4e14-812f-1d8ac6651cf1",
   "metadata": {},
   "outputs": [
    {
     "data": {
      "text/plain": [
       "del: org.apache.spark.sql.DataFrame = [COD_DISTRITO: int, DESC_DISTRITO: string ... 11 more fields]\n"
      ]
     },
     "execution_count": 16,
     "metadata": {},
     "output_type": "execute_result"
    }
   ],
   "source": [
    "val del = col.drop(\"Val5\")"
   ]
  },
  {
   "cell_type": "code",
   "execution_count": 17,
   "id": "e9f92e24-a02f-4af7-b7ea-109c839e0a65",
   "metadata": {},
   "outputs": [],
   "source": [
    "del.write.mode(\"overwrite\")\n",
    "    .partitionBy(\"DESC_DISTRITO\",\"DESC_BARRIO\")\n",
    "    .csv(\"Particionado\")"
   ]
  },
  {
   "cell_type": "code",
   "execution_count": 18,
   "id": "585ec4d6-6205-46f1-8d8f-353058997841",
   "metadata": {
    "tags": []
   },
   "outputs": [
    {
     "data": {
      "text/plain": [
       "numT: org.apache.spark.sql.Dataset[org.apache.spark.sql.Row] = [DESC_DISTRITO: string, DESC_BARRIO: string ... 4 more fields]\n"
      ]
     },
     "execution_count": 18,
     "metadata": {},
     "output_type": "execute_result"
    }
   ],
   "source": [
    "val numT =leer.select(\"DESC_DISTRITO\",\"DESC_BARRIO\",\"EspanolesHombres\",\"EspanolesMujeres\",\"ExtranjerosHombres\",\"ExtranjerosMujeres\")\n",
    "    .groupBy(\"DESC_DISTRITO\",\"DESC_BARRIO\")\n",
    "    .agg(sum(\"EspanolesHombres\").as(\"EspanolesHombres\")\n",
    "      ,sum(\"EspanolesMujeres\").as(\"EspanolesMujeres\")\n",
    "      ,sum(\"ExtranjerosHombres\").as(\"ExtranjerosHombres\")\n",
    "      ,sum(\"ExtranjerosMujeres\").as(\"ExtranjerosMujeres\"))\n",
    "    .orderBy(desc(\"ExtranjerosMujeres\"),desc(\"ExtranjerosHombres\"))"
   ]
  },
  {
   "cell_type": "code",
   "execution_count": 19,
   "id": "c8fb0a7e-ea76-44a2-b9e0-9d78946cccc6",
   "metadata": {},
   "outputs": [
    {
     "name": "stdout",
     "output_type": "stream",
     "text": [
      "+--------------------+--------------------+----------------+----------------+------------------+------------------+\n",
      "|       DESC_DISTRITO|         DESC_BARRIO|EspanolesHombres|EspanolesMujeres|ExtranjerosHombres|ExtranjerosMujeres|\n",
      "+--------------------+--------------------+----------------+----------------+------------------+------------------+\n",
      "|PUENTE DE VALLECAS  |SAN DIEGO           |           13889|           15566|              6935|              7096|\n",
      "|CIUDAD LINEAL       |PUEBLO NUEVO        |           23112|           27183|              5626|              6415|\n",
      "|LATINA              |ALUCHE              |           24824|           29557|              5451|              6386|\n",
      "|CARABANCHEL         |VISTA ALEGRE        |           15791|           19255|              5553|              6175|\n",
      "|CENTRO              |EMBAJADORES         |           16389|           16338|              7983|              5895|\n",
      "|PUENTE DE VALLECAS  |NUMANCIA            |           17045|           19295|              5522|              5859|\n",
      "|VILLAVERDE          |VILLAVERDE ALTO C.H.|           16999|           18932|              5220|              5438|\n",
      "|CIUDAD LINEAL       |VENTAS              |           17529|           21525|              4144|              4915|\n",
      "|LATINA              |PUERTA DEL ANGEL    |           14991|           17584|              4267|              4837|\n",
      "|CARABANCHEL         |PUERTA BONITA       |           12444|           14236|              4417|              4708|\n",
      "|FUENCARRAL-EL PARDO |VALVERDE            |           26767|           29013|              3748|              4517|\n",
      "|CARABANCHEL         |SAN ISIDRO          |           14424|           16486|              4190|              4512|\n",
      "|CENTRO              |UNIVERSIDAD         |           12259|           12363|              4148|              4203|\n",
      "|CARABANCHEL         |OPA�EL              |           11658|           13993|              3740|              4171|\n",
      "|HORTALEZA           |VALDEFUENTES        |           29558|           30031|              3139|              4013|\n",
      "|VILLAVERDE          |LOS ROSALES         |           14103|           15555|              3962|              4002|\n",
      "|TETUAN              |BELLAS VISTAS       |           10154|           11899|              3161|              3971|\n",
      "|VICALVARO           |CASCO H.VICALVARO   |           13280|           14431|              3745|              3876|\n",
      "|VILLA DE VALLECAS   |CASCO H.VALLECAS    |           15509|           16968|              3587|              3767|\n",
      "|CARABANCHEL         |BUENAVISTA          |           19843|           21029|              3464|              3753|\n",
      "+--------------------+--------------------+----------------+----------------+------------------+------------------+\n",
      "only showing top 20 rows\n",
      "\n"
     ]
    }
   ],
   "source": [
    "numT.show()"
   ]
  },
  {
   "cell_type": "code",
   "execution_count": 20,
   "id": "d4a4aad0-3267-462d-a73b-6167f586d233",
   "metadata": {},
   "outputs": [
    {
     "data": {
      "text/plain": [
       "uni: org.apache.spark.sql.DataFrame = [DESC_DISTRITO: string, DESC_BARRIO: string ... 1 more field]\n"
      ]
     },
     "execution_count": 20,
     "metadata": {},
     "output_type": "execute_result"
    }
   ],
   "source": [
    "val uni = leer\n",
    "    .select(col(\"DESC_DISTRITO\"), col(\"DESC_BARRIO\"), col(\"EspanolesHombres\"))\n",
    "    .groupBy(col(\"DESC_DISTRITO\"),col(\"DESC_BARRIO\"))\n",
    "    .agg(sum(\"EspanolesHombres\").as(\"SumEspHombres\"))"
   ]
  },
  {
   "cell_type": "code",
   "execution_count": 21,
   "id": "46bd8267-4400-4530-8c60-8eb256bdb53e",
   "metadata": {},
   "outputs": [
    {
     "name": "stdout",
     "output_type": "stream",
     "text": [
      "+--------------------+--------------------+-------------+\n",
      "|       DESC_DISTRITO|         DESC_BARRIO|SumEspHombres|\n",
      "+--------------------+--------------------+-------------+\n",
      "|TETUAN              |VALDEACEDERAS       |         9495|\n",
      "|ARGANZUELA          |DELICIAS            |        11746|\n",
      "|CARABANCHEL         |VISTA ALEGRE        |        15791|\n",
      "|SAN BLAS-CANILLEJAS |SIMANCAS            |        10689|\n",
      "|ARGANZUELA          |LEGAZPI             |         8833|\n",
      "|ARGANZUELA          |ATOCHA              |          744|\n",
      "|MORATALAZ           |FONTARRON           |         6516|\n",
      "|CARABANCHEL         |COMILLAS            |         8155|\n",
      "|LATINA              |LOS CARMENES        |         6844|\n",
      "|CENTRO              |CORTES              |         3945|\n",
      "|PUENTE DE VALLECAS  |NUMANCIA            |        17045|\n",
      "|RETIRO              |NI�O JESUS          |         6535|\n",
      "|CIUDAD LINEAL       |PUEBLO NUEVO        |        23112|\n",
      "|RETIRO              |PACIFICO            |        13285|\n",
      "|MONCLOA-ARAVACA     |ARGUELLES           |         9425|\n",
      "|LATINA              |LUCERO              |        13817|\n",
      "|CHAMBERI            |VALLEHERMOSO        |         8080|\n",
      "|PUENTE DE VALLECAS  |ENTREVIAS           |        13655|\n",
      "|HORTALEZA           |PINAR DEL REY       |        20988|\n",
      "|RETIRO              |IBIZA               |         8351|\n",
      "+--------------------+--------------------+-------------+\n",
      "only showing top 20 rows\n",
      "\n"
     ]
    }
   ],
   "source": [
    "uni.show()"
   ]
  },
  {
   "cell_type": "code",
   "execution_count": 22,
   "id": "44b9c944-6131-4938-9fb3-32f39e7cbd93",
   "metadata": {},
   "outputs": [
    {
     "data": {
      "text/plain": [
       "join: org.apache.spark.sql.Dataset[org.apache.spark.sql.Row] = [COD_DISTRITO: int, DESC_DISTRITO: string ... 13 more fields]\n"
      ]
     },
     "execution_count": 22,
     "metadata": {},
     "output_type": "execute_result"
    }
   ],
   "source": [
    "val join = leer.join(uni,leer(\"DESC_DISTRITO\") === uni(\"DESC_DISTRITO\") && leer(\"DESC_BARRIO\") === uni(\"DESC_BARRIO\"))\n",
    "    .orderBy(col(\"COD_DISTRITO\"),col(\"COD_DIST_BARRIO\"))"
   ]
  },
  {
   "cell_type": "code",
   "execution_count": 23,
   "id": "5b405df8-c22b-4e2e-8c3a-7aef5ef0708d",
   "metadata": {},
   "outputs": [
    {
     "name": "stdout",
     "output_type": "stream",
     "text": [
      "+------------+--------------------+---------------+--------------------+----------+----------------+-----------+------------+----------------+----------------+------------------+------------------+--------------------+--------------------+-------------+\n",
      "|COD_DISTRITO|       DESC_DISTRITO|COD_DIST_BARRIO|         DESC_BARRIO|COD_BARRIO|COD_DIST_SECCION|COD_SECCION|COD_EDAD_INT|EspanolesHombres|EspanolesMujeres|ExtranjerosHombres|ExtranjerosMujeres|       DESC_DISTRITO|         DESC_BARRIO|SumEspHombres|\n",
      "+------------+--------------------+---------------+--------------------+----------+----------------+-----------+------------+----------------+----------------+------------------+------------------+--------------------+--------------------+-------------+\n",
      "|           1|CENTRO              |            101|PALACIO             |         1|            1001|          1|          18|               3|               7|                 2|              null|CENTRO              |PALACIO             |         9197|\n",
      "|           1|CENTRO              |            101|PALACIO             |         1|            1001|          1|          10|               1|               2|                 1|              null|CENTRO              |PALACIO             |         9197|\n",
      "|           1|CENTRO              |            101|PALACIO             |         1|            1001|          1|          17|               2|               1|              null|                 1|CENTRO              |PALACIO             |         9197|\n",
      "|           1|CENTRO              |            101|PALACIO             |         1|            1001|          1|           5|               1|               1|              null|                 1|CENTRO              |PALACIO             |         9197|\n",
      "|           1|CENTRO              |            101|PALACIO             |         1|            1001|          1|           9|               2|            null|              null|                 2|CENTRO              |PALACIO             |         9197|\n",
      "|           1|CENTRO              |            101|PALACIO             |         1|            1001|          1|          13|               4|               4|              null|              null|CENTRO              |PALACIO             |         9197|\n",
      "|           1|CENTRO              |            101|PALACIO             |         1|            1001|          1|          16|               4|               5|              null|              null|CENTRO              |PALACIO             |         9197|\n",
      "|           1|CENTRO              |            101|PALACIO             |         1|            1001|          1|           1|               5|               2|                 1|              null|CENTRO              |PALACIO             |         9197|\n",
      "|           1|CENTRO              |            101|PALACIO             |         1|            1001|          1|           4|               2|            null|                 1|                 2|CENTRO              |PALACIO             |         9197|\n",
      "|           1|CENTRO              |            101|PALACIO             |         1|            1001|          1|           7|               1|               2|              null|              null|CENTRO              |PALACIO             |         9197|\n",
      "|           1|CENTRO              |            101|PALACIO             |         1|            1001|          1|           8|               3|               2|                 1|                 1|CENTRO              |PALACIO             |         9197|\n",
      "|           1|CENTRO              |            101|PALACIO             |         1|            1001|          1|          11|               5|               1|                 1|              null|CENTRO              |PALACIO             |         9197|\n",
      "|           1|CENTRO              |            101|PALACIO             |         1|            1001|          1|          12|               3|               4|              null|              null|CENTRO              |PALACIO             |         9197|\n",
      "|           1|CENTRO              |            101|PALACIO             |         1|            1001|          1|          14|               1|               1|              null|                 2|CENTRO              |PALACIO             |         9197|\n",
      "|           1|CENTRO              |            101|PALACIO             |         1|            1001|          1|          15|               3|               2|                 1|              null|CENTRO              |PALACIO             |         9197|\n",
      "|           1|CENTRO              |            101|PALACIO             |         1|            1001|          1|           0|               3|               1|                 1|              null|CENTRO              |PALACIO             |         9197|\n",
      "|           1|CENTRO              |            101|PALACIO             |         1|            1001|          1|          20|               2|               3|                 3|              null|CENTRO              |PALACIO             |         9197|\n",
      "|           1|CENTRO              |            101|PALACIO             |         1|            1001|          1|           2|               2|               2|                 1|                 3|CENTRO              |PALACIO             |         9197|\n",
      "|           1|CENTRO              |            101|PALACIO             |         1|            1001|          1|           3|               4|               2|              null|                 1|CENTRO              |PALACIO             |         9197|\n",
      "|           1|CENTRO              |            101|PALACIO             |         1|            1001|          1|           6|               2|               2|                 2|                 1|CENTRO              |PALACIO             |         9197|\n",
      "+------------+--------------------+---------------+--------------------+----------+----------------+-----------+------------+----------------+----------------+------------------+------------------+--------------------+--------------------+-------------+\n",
      "only showing top 20 rows\n",
      "\n"
     ]
    }
   ],
   "source": [
    "join.show()"
   ]
  },
  {
   "cell_type": "code",
   "execution_count": 99,
   "id": "6d55812e-8823-4fe4-8960-440fae1d844a",
   "metadata": {},
   "outputs": [
    {
     "data": {
      "text/plain": [
       "pivot: org.apache.spark.sql.Dataset[org.apache.spark.sql.Row] = [DESC_DISTRITO: string, COD_EDAD_INT: int]\n"
      ]
     },
     "execution_count": 99,
     "metadata": {},
     "output_type": "execute_result"
    }
   ],
   "source": [
    "val pivot = leer\n",
    "    .where(col(\"DESC_DISTRITO\").equalTo(\"CENTRO\") || col(\"DESC_DISTRITO\").equalTo(\"BARAJAS\") || col(\"DESC_DISTRITO\").equalTo(\"RETIRO\"))\n",
    "    .groupBy(col(\"COD_EDAD_INT\"))\n",
    "    .pivot(\"DESC_DISTRITO\").sum(\"EspanolesMujeres\")\n",
    "    .orderBy(\"COD_EDAD_INT\")"
   ]
  },
  {
   "cell_type": "code",
   "execution_count": 97,
   "id": "0f797e1c-d405-4508-920a-144b7b656f0d",
   "metadata": {},
   "outputs": [
    {
     "name": "stdout",
     "output_type": "stream",
     "text": [
      "+-------------+------------+\n",
      "|DESC_DISTRITO|COD_EDAD_INT|\n",
      "+-------------+------------+\n",
      "+-------------+------------+\n",
      "\n"
     ]
    }
   ],
   "source": [
    "pivot.show()"
   ]
  },
  {
   "cell_type": "code",
   "execution_count": null,
   "id": "e44e194c-6d96-442e-b91a-e1f3e4df4d55",
   "metadata": {},
   "outputs": [],
   "source": [
    "leer.write.mode(\"overwrite\")\n",
    "    .partitionBy(\"DESC_DISTRITO\",\"DESC_BARRIO\")\n",
    "    .csv(\"salida/padron_csv\")"
   ]
  },
  {
   "cell_type": "code",
   "execution_count": null,
   "id": "f21a741a-8587-4d63-a27b-4d6206deaf0c",
   "metadata": {},
   "outputs": [],
   "source": [
    "leer.write.mode(\"overwrite\")\n",
    "    .partitionBy(\"DESC_DISTRITO\",\"DESC_BARRIO\")\n",
    "    .parquet(\"salida/padron_parquet\")"
   ]
  }
 ],
 "metadata": {
  "kernelspec": {
   "display_name": "spylon-kernel",
   "language": "scala",
   "name": "spylon-kernel"
  },
  "language_info": {
   "codemirror_mode": "text/x-scala",
   "file_extension": ".scala",
   "help_links": [
    {
     "text": "MetaKernel Magics",
     "url": "https://metakernel.readthedocs.io/en/latest/source/README.html"
    }
   ],
   "mimetype": "text/x-scala",
   "name": "scala",
   "pygments_lexer": "scala",
   "version": "0.4.1"
  }
 },
 "nbformat": 4,
 "nbformat_minor": 5
}
